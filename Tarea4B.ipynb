{
 "cells": [
  {
   "cell_type": "code",
   "execution_count": 2,
   "metadata": {
    "collapsed": false
   },
   "outputs": [],
   "source": [
    "#Funcion que calcula raices por el metodo de biseccion\n",
    "\n",
    "function biseccion(a,b)\n",
    "    p=(a+b)/2\n",
    "    f(x)=x^3-x^2-x-1\n",
    "    list=zeros(50)\n",
    "        for i in 1:50\n",
    "            if f(a)*f(p)>0\n",
    "                a=p\n",
    "            end;\n",
    "            if f(b)*f(p)>0\n",
    "                b=p\n",
    "            end;\n",
    "            p=(a+b)/2\n",
    "        list[i]=p\n",
    "        end;\n",
    "        return list\n",
    "    end;\n"
   ]
  },
  {
   "cell_type": "code",
   "execution_count": 4,
   "metadata": {
    "collapsed": false
   },
   "outputs": [
    {
     "data": {
      "text/plain": [
       "50-element Array{Float64,1}:\n",
       " 1.0    \n",
       " 1.5    \n",
       " 1.75   \n",
       " 1.875  \n",
       " 1.8125 \n",
       " 1.84375\n",
       " 1.82813\n",
       " 1.83594\n",
       " 1.83984\n",
       " 1.83789\n",
       " 1.83887\n",
       " 1.83936\n",
       " 1.83911\n",
       " ⋮      \n",
       " 1.83929\n",
       " 1.83929\n",
       " 1.83929\n",
       " 1.83929\n",
       " 1.83929\n",
       " 1.83929\n",
       " 1.83929\n",
       " 1.83929\n",
       " 1.83929\n",
       " 1.83929\n",
       " 1.83929\n",
       " 1.83929"
      ]
     },
     "execution_count": 4,
     "metadata": {},
     "output_type": "execute_result"
    }
   ],
   "source": [
    "biseccion(0,4)"
   ]
  },
  {
   "cell_type": "code",
   "execution_count": 30,
   "metadata": {
    "collapsed": false
   },
   "outputs": [
    {
     "name": "stderr",
     "output_type": "stream",
     "text": [
      "\u001b[1m\u001b[36mINFO: \u001b[39m\u001b[22m\u001b[36mPackage PyPlot is already installed\n",
      "\u001b[39m"
     ]
    }
   ],
   "source": [
    "Pkg.add(\"PyPlot\")"
   ]
  },
  {
   "cell_type": "code",
   "execution_count": 31,
   "metadata": {
    "collapsed": true
   },
   "outputs": [],
   "source": [
    "using PyPlot"
   ]
  },
  {
   "cell_type": "code",
   "execution_count": 37,
   "metadata": {
    "collapsed": false
   },
   "outputs": [
    {
     "ename": "LoadError",
     "evalue": "\u001b[91mUndefVarError: p not defined\u001b[39m",
     "output_type": "error",
     "traceback": [
      "\u001b[91mUndefVarError: p not defined\u001b[39m",
      ""
     ]
    }
   ],
   "source": [
    "x=linspace(0,10,100)\n",
    "plot(p,f(p))"
   ]
  },
  {
   "cell_type": "code",
   "execution_count": null,
   "metadata": {
    "collapsed": true
   },
   "outputs": [],
   "source": []
  }
 ],
 "metadata": {
  "kernelspec": {
   "display_name": "Julia 0.6.0",
   "language": "julia",
   "name": "julia-0.6"
  },
  "language_info": {
   "file_extension": ".jl",
   "mimetype": "application/julia",
   "name": "julia",
   "version": "0.6.0"
  }
 },
 "nbformat": 4,
 "nbformat_minor": 2
}
