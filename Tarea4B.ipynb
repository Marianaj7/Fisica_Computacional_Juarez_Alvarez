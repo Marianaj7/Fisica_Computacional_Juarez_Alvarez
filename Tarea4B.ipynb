{
 "cells": [
  {
   "cell_type": "code",
   "execution_count": 17,
   "metadata": {
    "collapsed": false
   },
   "outputs": [],
   "source": [
    "#Funcion que calcula raices por el metodo de biseccion\n",
    "\n",
    "function biseccion(a,b)\n",
    "    p=(a+b)/2\n",
    "    f(x)=x^3-x^2-x-1\n",
    "    list=zeros(50)\n",
    "        for i in 1:50\n",
    "            if f(a)*f(p)>0\n",
    "                a=p\n",
    "            end;\n",
    "            if f(b)*f(p)>0\n",
    "                b=p\n",
    "            end;\n",
    "            p=(a+b)/2\n",
    "        list[i]=p\n",
    "        end;\n",
    "        return (list-list[50])./list[50]\n",
    "    end;\n"
   ]
  },
  {
   "cell_type": "code",
   "execution_count": 18,
   "metadata": {
    "collapsed": false
   },
   "outputs": [
    {
     "data": {
      "text/plain": [
       "50-element Array{Float64,1}:\n",
       " -0.456311   \n",
       " -0.184466   \n",
       " -0.0485442  \n",
       "  0.0194169  \n",
       " -0.0145637  \n",
       "  0.00242662 \n",
       " -0.00606852 \n",
       " -0.00182095 \n",
       "  0.000302832\n",
       " -0.000759061\n",
       " -0.000228114\n",
       "  3.73588e-5 \n",
       " -9.53778e-5 \n",
       "  ⋮          \n",
       " -1.7867e-13 \n",
       "  8.10294e-13\n",
       "  3.15812e-13\n",
       "  6.85708e-14\n",
       " -5.50498e-14\n",
       "  6.7605e-15 \n",
       " -2.41446e-14\n",
       " -8.69207e-15\n",
       " -9.65786e-16\n",
       "  2.89736e-15\n",
       "  9.65786e-16\n",
       "  0.0        "
      ]
     },
     "execution_count": 18,
     "metadata": {},
     "output_type": "execute_result"
    }
   ],
   "source": [
    "biseccion(0,4)"
   ]
  },
  {
   "cell_type": "code",
   "execution_count": 19,
   "metadata": {
    "collapsed": false
   },
   "outputs": [
    {
     "data": {
      "text/plain": [
       "50-element Array{Float64,1}:\n",
       " -0.864078   \n",
       " -0.38835    \n",
       " -0.150486   \n",
       " -0.0315539  \n",
       "  0.027912   \n",
       " -0.00182095 \n",
       "  0.0130455  \n",
       "  0.00561229 \n",
       "  0.00189567 \n",
       "  3.73588e-5 \n",
       " -0.000891797\n",
       " -0.000427219\n",
       " -0.00019493 \n",
       "  ⋮          \n",
       "  1.30647e-12\n",
       " -4.24221e-13\n",
       "  4.41123e-13\n",
       "  8.45062e-15\n",
       " -2.07885e-13\n",
       " -9.97174e-14\n",
       " -4.56334e-14\n",
       " -1.85914e-14\n",
       " -5.07037e-15\n",
       "  1.69012e-15\n",
       " -1.69012e-15\n",
       "  0.0        "
      ]
     },
     "execution_count": 19,
     "metadata": {},
     "output_type": "execute_result"
    }
   ],
   "source": [
    "biseccion(2,-5)"
   ]
  },
  {
   "cell_type": "code",
   "execution_count": 20,
   "metadata": {
    "collapsed": false
   },
   "outputs": [
    {
     "data": {
      "text/plain": [
       "50-element Array{Float64,1}:\n",
       " -1.27184    \n",
       " -0.592233   \n",
       " -0.252428   \n",
       " -0.0825248  \n",
       "  0.00242662 \n",
       " -0.0400491  \n",
       " -0.0188112  \n",
       " -0.00819231 \n",
       " -0.00288285 \n",
       " -0.000228114\n",
       "  0.00109925 \n",
       "  0.000435569\n",
       "  0.000103727\n",
       "  ⋮          \n",
       "  4.76857e-12\n",
       "  2.29616e-12\n",
       "  1.05995e-12\n",
       "  4.41847e-13\n",
       "  1.32796e-13\n",
       " -2.17302e-14\n",
       "  5.55327e-14\n",
       "  1.69012e-14\n",
       " -2.41446e-15\n",
       "  7.24339e-15\n",
       "  2.41446e-15\n",
       "  0.0        "
      ]
     },
     "execution_count": 20,
     "metadata": {},
     "output_type": "execute_result"
    }
   ],
   "source": [
    "biseccion(-3,7)"
   ]
  },
  {
   "cell_type": "code",
   "execution_count": 21,
   "metadata": {
    "collapsed": false
   },
   "outputs": [
    {
     "data": {
      "text/plain": [
       "50-element Array{Float64,1}:\n",
       "  0.671844   \n",
       " -0.136894   \n",
       "  0.267475   \n",
       "  0.0652907  \n",
       " -0.0358015  \n",
       "  0.0147446  \n",
       " -0.0105285  \n",
       "  0.00210805 \n",
       " -0.00421021 \n",
       " -0.00105108 \n",
       "  0.000528484\n",
       " -0.000261299\n",
       "  0.000133593\n",
       "  ⋮          \n",
       " -3.6864e-12 \n",
       " -7.44138e-13\n",
       "  7.26995e-13\n",
       " -8.57135e-15\n",
       "  3.59272e-13\n",
       "  1.7529e-13 \n",
       "  8.3299e-14 \n",
       "  3.74242e-14\n",
       "  1.44868e-14\n",
       "  2.89736e-15\n",
       " -2.89736e-15\n",
       "  0.0        "
      ]
     },
     "execution_count": 21,
     "metadata": {},
     "output_type": "execute_result"
    }
   ],
   "source": [
    "biseccion(0.1,12)"
   ]
  },
  {
   "cell_type": "code",
   "execution_count": 22,
   "metadata": {
    "collapsed": true
   },
   "outputs": [],
   "source": [
    "list1=biseccion(0,4);\n",
    "list2=biseccion(2,-5);\n",
    "list3=biseccion(-3,7);\n",
    "list4=biseccion(0.1,12);"
   ]
  },
  {
   "cell_type": "code",
   "execution_count": 14,
   "metadata": {
    "collapsed": false
   },
   "outputs": [
    {
     "name": "stderr",
     "output_type": "stream",
     "text": [
      "\u001b[1m\u001b[36mINFO: \u001b[39m\u001b[22m\u001b[36mPackage PyPlot is already installed\n",
      "\u001b[39m\u001b[1m\u001b[36mINFO: \u001b[39m\u001b[22m\u001b[36mMETADATA is out-of-date — you may not have the latest version of PyPlot\n",
      "\u001b[39m\u001b[1m\u001b[36mINFO: \u001b[39m\u001b[22m\u001b[36mUse `Pkg.update()` to get the latest versions of your packages\n",
      "\u001b[39m"
     ]
    }
   ],
   "source": [
    "Pkg.add(\"PyPlot\")"
   ]
  },
  {
   "cell_type": "code",
   "execution_count": 15,
   "metadata": {
    "collapsed": true
   },
   "outputs": [],
   "source": [
    "using PyPlot"
   ]
  },
  {
   "cell_type": "code",
   "execution_count": 23,
   "metadata": {
    "collapsed": false
   },
   "outputs": [
    {
     "data": {
      "image/png": "[encoded data removed]",
      "text/plain": [
       "PyPlot.Figure(PyObject <matplotlib.figure.Figure object at 0x7fbfd1de07d0>)"
      ]
     },
     "metadata": {},
     "output_type": "display_data"
    }
   ],
   "source": [
    "yscale(\"symlog\", linthreshy=0.05)\n",
    "plot(real(list1))\n",
    "plot(real(list2))\n",
    "plot(real(list3))\n",
    "plot(real(list4))\n",
    "show();"
   ]
  },
  {
   "cell_type": "code",
   "execution_count": null,
   "metadata": {
    "collapsed": true
   },
   "outputs": [],
   "source": []
  }
 ],
 "metadata": {
  "kernelspec": {
   "display_name": "Julia 0.6.0",
   "language": "julia",
   "name": "julia-0.6"
  },
  "language_info": {
   "file_extension": ".jl",
   "mimetype": "application/julia",
   "name": "julia",
   "version": "0.6.0"
  }
 },
 "nbformat": 4,
 "nbformat_minor": 2
}
