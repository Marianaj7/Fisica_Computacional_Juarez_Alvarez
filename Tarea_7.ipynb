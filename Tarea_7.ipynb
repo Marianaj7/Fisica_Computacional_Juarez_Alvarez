{
 "cells": [
  {
   "cell_type": "code",
   "execution_count": 40,
   "metadata": {},
   "outputs": [
    {
     "name": "stderr",
     "output_type": "stream",
     "text": [
      "\u001b[1m\u001b[36mINFO: \u001b[39m\u001b[22m\u001b[36mPackage SymPy is already installed\n",
      "\u001b[39m\u001b[1m\u001b[36mINFO: \u001b[39m\u001b[22m\u001b[36mMETADATA is out-of-date — you may not have the latest version of SymPy\n",
      "\u001b[39m\u001b[1m\u001b[36mINFO: \u001b[39m\u001b[22m\u001b[36mUse `Pkg.update()` to get the latest versions of your packages\n",
      "\u001b[39m"
     ]
    }
   ],
   "source": [
    "Pkg.add(\"SymPy\")"
   ]
  },
  {
   "cell_type": "code",
   "execution_count": 41,
   "metadata": {
    "collapsed": true
   },
   "outputs": [],
   "source": [
    "using SymPy"
   ]
  },
  {
   "cell_type": "code",
   "execution_count": 42,
   "metadata": {},
   "outputs": [
    {
     "data": {
      "text/latex": [
       "$$x$$"
      ],
      "text/plain": [
       "x"
      ]
     },
     "execution_count": 42,
     "metadata": {},
     "output_type": "execute_result"
    }
   ],
   "source": [
    "x=symbols(\"x\")"
   ]
  },
  {
   "cell_type": "code",
   "execution_count": 43,
   "metadata": {},
   "outputs": [
    {
     "data": {
      "text/plain": [
       "f (generic function with 1 method)"
      ]
     },
     "execution_count": 43,
     "metadata": {},
     "output_type": "execute_result"
    }
   ],
   "source": [
    "#Se define la función a integrar\n",
    "function f(x)\n",
    "    return x\n",
    "end"
   ]
  },
  {
   "cell_type": "code",
   "execution_count": 44,
   "metadata": {
    "collapsed": true
   },
   "outputs": [],
   "source": [
    "b=linspace(1,10,200);"
   ]
  },
  {
   "cell_type": "code",
   "execution_count": 45,
   "metadata": {},
   "outputs": [
    {
     "data": {
      "text/plain": [
       "200"
      ]
     },
     "execution_count": 45,
     "metadata": {},
     "output_type": "execute_result"
    }
   ],
   "source": [
    "length(b)"
   ]
  },
  {
   "cell_type": "code",
   "execution_count": 46,
   "metadata": {},
   "outputs": [
    {
     "data": {
      "text/plain": [
       "Simpson (generic function with 1 method)"
      ]
     },
     "execution_count": 46,
     "metadata": {},
     "output_type": "execute_result"
    }
   ],
   "source": [
    "#Ejercicio 3\n",
    "function Simpson(f,b)\n",
    "    p=0\n",
    "    for i in 1:length(b)-1\n",
    "    a=b[i]\n",
    "    c=b[i+1]\n",
    "        #el código para calcular la integral por el método de Simpson es completamente análogo a los dos anteriores, simplemente varía en la forma de aproximarse a la integral, ahora se hace mediante un polinomio de segundo grado.\n",
    "    p=p+((c-a)/6)*(f(a)+4f((a+c)/2)+f(c))\n",
    "    end\n",
    "    return p\n",
    "end"
   ]
  },
  {
   "cell_type": "code",
   "execution_count": 47,
   "metadata": {},
   "outputs": [
    {
     "data": {
      "text/plain": [
       "49.499999999999964"
      ]
     },
     "execution_count": 47,
     "metadata": {},
     "output_type": "execute_result"
    }
   ],
   "source": [
    "#La aproximación que arroja el método de Simpson es muy próxima al valor real de la integral.\n",
    "Simpson(f,b)"
   ]
  },
  {
   "cell_type": "code",
   "execution_count": 48,
   "metadata": {},
   "outputs": [
    {
     "data": {
      "text/plain": [
       "f (generic function with 1 method)"
      ]
     },
     "execution_count": 48,
     "metadata": {},
     "output_type": "execute_result"
    }
   ],
   "source": [
    "#Ejercicio 4\n",
    "#Interpolación polinomial en la forma de Lagrange\n",
    "#Se define la función coseno de x\n",
    "function f(x)\n",
    "    return cos(x)\n",
    "end"
   ]
  },
  {
   "cell_type": "code",
   "execution_count": 49,
   "metadata": {},
   "outputs": [
    {
     "data": {
      "text/plain": [
       "0.0:0.6981317007977318:6.283185307179586"
      ]
     },
     "execution_count": 49,
     "metadata": {},
     "output_type": "execute_result"
    }
   ],
   "source": [
    "#Se toman 10 puntos dentro del intervalo [0,2pi], los cuales corresponden al dominio de la función.\n",
    "listx=linspace(0,2pi,10)"
   ]
  },
  {
   "cell_type": "code",
   "execution_count": 50,
   "metadata": {},
   "outputs": [
    {
     "data": {
      "text/plain": [
       "10-element Array{Float64,1}:\n",
       " 0.0     \n",
       " 0.698132\n",
       " 1.39626 \n",
       " 2.0944  \n",
       " 2.79253 \n",
       " 3.49066 \n",
       " 4.18879 \n",
       " 4.88692 \n",
       " 5.58505 \n",
       " 6.28319 "
      ]
     },
     "execution_count": 50,
     "metadata": {},
     "output_type": "execute_result"
    }
   ],
   "source": [
    "collect(listx)"
   ]
  },
  {
   "cell_type": "code",
   "execution_count": 51,
   "metadata": {},
   "outputs": [
    {
     "data": {
      "text/plain": [
       "0.6981317007977318"
      ]
     },
     "execution_count": 51,
     "metadata": {},
     "output_type": "execute_result"
    }
   ],
   "source": [
    "listx[2]"
   ]
  },
  {
   "cell_type": "code",
   "execution_count": 52,
   "metadata": {
    "scrolled": false
   },
   "outputs": [
    {
     "data": {
      "text/plain": [
       "10"
      ]
     },
     "execution_count": 52,
     "metadata": {},
     "output_type": "execute_result"
    }
   ],
   "source": [
    "length(listx)"
   ]
  },
  {
   "cell_type": "code",
   "execution_count": 53,
   "metadata": {},
   "outputs": [
    {
     "name": "stderr",
     "output_type": "stream",
     "text": [
      "\u001b[1m\u001b[33mWARNING: \u001b[39m\u001b[22m\u001b[33mcos{T <: Number}(x::AbstractArray{T}) is deprecated, use cos.(x) instead.\u001b[39m\n",
      "Stacktrace:\n",
      " [1] \u001b[1mdepwarn\u001b[22m\u001b[22m\u001b[1m(\u001b[22m\u001b[22m::String, ::Symbol\u001b[1m)\u001b[22m\u001b[22m at \u001b[1m./deprecated.jl:70\u001b[22m\u001b[22m\n",
      " [2] \u001b[1mcos\u001b[22m\u001b[22m\u001b[1m(\u001b[22m\u001b[22m::StepRangeLen{Float64,Base.TwicePrecision{Float64},Base.TwicePrecision{Float64}}\u001b[1m)\u001b[22m\u001b[22m at \u001b[1m./deprecated.jl:57\u001b[22m\u001b[22m\n",
      " [3] \u001b[1mf\u001b[22m\u001b[22m\u001b[1m(\u001b[22m\u001b[22m::StepRangeLen{Float64,Base.TwicePrecision{Float64},Base.TwicePrecision{Float64}}\u001b[1m)\u001b[22m\u001b[22m at \u001b[1m./In[48]:3\u001b[22m\u001b[22m\n",
      " [4] \u001b[1minclude_string\u001b[22m\u001b[22m\u001b[1m(\u001b[22m\u001b[22m::String, ::String\u001b[1m)\u001b[22m\u001b[22m at \u001b[1m./loading.jl:515\u001b[22m\u001b[22m\n",
      " [5] \u001b[1mexecute_request\u001b[22m\u001b[22m\u001b[1m(\u001b[22m\u001b[22m::ZMQ.Socket, ::IJulia.Msg\u001b[1m)\u001b[22m\u001b[22m at \u001b[1m/opt/julia_packages/.julia/v0.6/IJulia/src/execute_request.jl:160\u001b[22m\u001b[22m\n",
      " [6] \u001b[1meventloop\u001b[22m\u001b[22m\u001b[1m(\u001b[22m\u001b[22m::ZMQ.Socket\u001b[1m)\u001b[22m\u001b[22m at \u001b[1m/opt/julia_packages/.julia/v0.6/IJulia/src/eventloop.jl:8\u001b[22m\u001b[22m\n",
      " [7] \u001b[1m(::IJulia.##11#14)\u001b[22m\u001b[22m\u001b[1m(\u001b[22m\u001b[22m\u001b[1m)\u001b[22m\u001b[22m at \u001b[1m./task.jl:335\u001b[22m\u001b[22m\n",
      "while loading In[53], in expression starting on line 1\n"
     ]
    },
    {
     "data": {
      "text/plain": [
       "10-element Array{Float64,1}:\n",
       "  1.0     \n",
       "  0.766044\n",
       "  0.173648\n",
       " -0.5     \n",
       " -0.939693\n",
       " -0.939693\n",
       " -0.5     \n",
       "  0.173648\n",
       "  0.766044\n",
       "  1.0     "
      ]
     },
     "execution_count": 53,
     "metadata": {},
     "output_type": "execute_result"
    }
   ],
   "source": [
    "#En este punto el programa imprime la lista de los puntos de la listx evaluados en la función f antes definida.\n",
    "listy=f(listx)"
   ]
  },
  {
   "cell_type": "code",
   "execution_count": 54,
   "metadata": {
    "collapsed": true
   },
   "outputs": [],
   "source": [
    "using PyPlot"
   ]
  },
  {
   "cell_type": "code",
   "execution_count": 55,
   "metadata": {
    "collapsed": true
   },
   "outputs": [],
   "source": [
    "using SymPy"
   ]
  },
  {
   "cell_type": "code",
   "execution_count": 56,
   "metadata": {},
   "outputs": [
    {
     "data": {
      "text/plain": [
       "bases (generic function with 1 method)"
      ]
     },
     "execution_count": 56,
     "metadata": {},
     "output_type": "execute_result"
    }
   ],
   "source": [
    "#Como primer punto se construye el programa para calcular las bases polinómicas, nótese que la máxima potencia que éstas pueden tener corresponden al número de puntos dentro del intervalo.\n",
    "function bases(index,listx)\n",
    "    l=1\n",
    "    for i in 1:length(listx)\n",
    "        if i != index\n",
    "            l= l*(Sym(\"x\")-listx[i])/(listx[index]-listx[i])        \n",
    "        end\n",
    "    end\n",
    "    return l\n",
    "end"
   ]
  },
  {
   "cell_type": "code",
   "execution_count": 60,
   "metadata": {},
   "outputs": [
    {
     "data": {
      "text/latex": [
       "$$6.99520967905925 \\cdot 10^{-5} x \\left(x - 5.58505360638185\\right) \\left(x - 4.88692190558412\\right) \\left(x - 4.18879020478639\\right) \\left(x - 3.49065850398866\\right) \\left(x - 2.79252680319093\\right) \\left(x - 2.0943951023932\\right) \\left(x - 1.39626340159546\\right) \\left(x - 0.698131700797732\\right)$$"
      ],
      "text/plain": [
       "6.99520967905925e-5*x*(x - 5.58505360638185)*(x - 4.88692190558412)*(x - 4.188\n",
       "79020478639)*(x - 3.49065850398866)*(x - 2.79252680319093)*(x - 2.094395102393\n",
       "2)*(x - 1.39626340159546)*(x - 0.698131700797732)"
      ]
     },
     "execution_count": 60,
     "metadata": {},
     "output_type": "execute_result"
    }
   ],
   "source": [
    "bases(10,listx)"
   ]
  },
  {
   "cell_type": "code",
   "execution_count": 58,
   "metadata": {},
   "outputs": [
    {
     "data": {
      "text/plain": [
       "lagrange (generic function with 1 method)"
      ]
     },
     "execution_count": 58,
     "metadata": {},
     "output_type": "execute_result"
    }
   ],
   "source": [
    "#Ahora realizamos el código para obtener el polinomio interpolador, el cual se obtiene con la combinación lineal entre las bases polinómicas y el conjunto de puntos de la listx.\n",
    "function lagrange(list1,list2)\n",
    "    L=0\n",
    "    for i=1:length(list2)\n",
    "        L=L+bases(i,list1)*list2[i]\n",
    "    end\n",
    "    return expand(L)\n",
    "end"
   ]
  },
  {
   "cell_type": "code",
   "execution_count": 61,
   "metadata": {},
   "outputs": [
    {
     "data": {
      "text/latex": [
       "$$7.42678488152571 \\cdot 10^{-18} x^{9} - 1.97979336359812 \\cdot 10^{-5} x^{8} + 0.000497576342935013 x^{7} - 0.00411366974808214 x^{6} + 0.00878850466172487 x^{5} + 0.0243778891541915 x^{4} + 0.0201425548285172 x^{3} - 0.512543349763863 x^{2} + 0.00313254720749789 x + 1.0$$"
      ],
      "text/plain": [
       "                      9                        8                         7    \n",
       "7.42678488152571e-18*x  - 1.97979336359812e-5*x  + 0.000497576342935013*x  - 0\n",
       "\n",
       "                    6                        5                       4        \n",
       ".00411366974808214*x  + 0.00878850466172487*x  + 0.0243778891541915*x  + 0.020\n",
       "\n",
       "               3                      2                              \n",
       "1425548285172*x  - 0.512543349763863*x  + 0.00313254720749789*x + 1.0"
      ]
     },
     "execution_count": 61,
     "metadata": {},
     "output_type": "execute_result"
    }
   ],
   "source": [
    "lagrange(listx,listy)"
   ]
  },
  {
   "cell_type": "code",
   "execution_count": 21,
   "metadata": {
    "scrolled": true
   },
   "outputs": [
    {
     "name": "stderr",
     "output_type": "stream",
     "text": [
      "\u001b[1m\u001b[36mINFO: \u001b[39m\u001b[22m\u001b[36mPackage PyPlot is already installed\n",
      "\u001b[39m\u001b[1m\u001b[36mINFO: \u001b[39m\u001b[22m\u001b[36mMETADATA is out-of-date — you may not have the latest version of PyPlot\n",
      "\u001b[39m\u001b[1m\u001b[36mINFO: \u001b[39m\u001b[22m\u001b[36mUse `Pkg.update()` to get the latest versions of your packages\n",
      "\u001b[39m"
     ]
    }
   ],
   "source": [
    "Pkg.add(\"PyPlot\")"
   ]
  },
  {
   "cell_type": "code",
   "execution_count": 28,
   "metadata": {
    "collapsed": true
   },
   "outputs": [],
   "source": [
    "using PyPlot"
   ]
  },
  {
   "cell_type": "code",
   "execution_count": 66,
   "metadata": {},
   "outputs": [
    {
     "data": {
      "text/plain": [
       "-1.0:0.1111111111111111:10.0"
      ]
     },
     "execution_count": 66,
     "metadata": {},
     "output_type": "execute_result"
    }
   ],
   "source": [
    "p=linspace(-1,10,100)"
   ]
  },
  {
   "cell_type": "code",
   "execution_count": 67,
   "metadata": {},
   "outputs": [
    {
     "data": {
      "text/latex": [
       "\\begin{bmatrix}0.475139888667935\\\\0.586183195458753\\\\0.683449905198745\\\\0.76741343834337\\\\0.838341379354863\\\\0.896361622057405\\\\0.941519457445045\\\\0.973826230249173\\\\0.993300172028415\\\\1.0\\\\0.994051852287761\\\\0.975670111718066\\\\0.945172651751103\\\\0.902991019591104\\\\0.849676052975173\\\\0.785899408596578\\\\0.712451461574445\\\\0.630236016837957\\\\0.540262254749285\\\\0.443634314745611\\\\0.341538902236733\\\\0.235231285450869\\\\0.126020030377437\\\\0.0152508034116787\\\\-0.0957104472378352\\\\-0.205494638861674\\\\-0.312746756308694\\\\-0.416142853362442\\\\-0.514406616549278\\\\-0.606325273036507\\\\-0.690764642822725\\\\-0.766683153966413\\\\-0.8331446581427\\\\-0.889329902362081\\\\-0.934546531228734\\\\-0.968237512659974\\\\-0.989987898532188\\\\-0.999529850262564\\\\-0.996745877879678\\\\-0.981670259679958\\\\-0.954488628110877\\\\-0.915535726065591\\\\-0.865291356317601\\\\-0.804374565367947\\\\-0.73353612152117\\\\-0.653649365550329\\\\-0.565699530855062\\\\-0.470771648560657\\\\-0.370037171549905\\\\-0.264739469963409\\\\-0.156178369247936\\\\-0.0456939203759532\\\\0.0653503895959417\\\\0.175584759918952\\\\0.283650286239304\\\\0.388215994581662\\\\0.487995416886386\\\\0.581762407213594\\\\0.668365879183941\\\\0.746743126681665\\\\0.815931371301449\\\\0.875077161477513\\\\0.923443229688441\\\\0.960412395588619\\\\0.985488084371511\\\\0.998291011129112\\\\0.998551563423302\\\\0.986097395747713\\\\0.960835731006615\\\\0.92272984560104\\\\0.871769196164955\\\\0.807932627447936\\\\0.731144082303839\\\\0.641220216193883\\\\0.537809300073278\\\\0.420320776983683\\\\0.287844819134495\\\\0.139061213705336\\\\-0.0278631129358757\\\\-0.215388641451089\\\\-0.42673060358354\\\\-0.665999869978577\\\\-0.938358146262154\\\\-1.25018826039934\\\\-1.60928034290708\\\\-2.02503472003264\\\\-2.5086823585624\\\\-3.07352371945534\\\\-3.73518689605909\\\\-4.51190593118255\\\\-5.42482022587905\\\\-6.49829597129846\\\\-7.76027055355033\\\\-9.24262090001962\\\\-10.9815567541728\\\\-13.018039884383\\\\-15.3982302508887\\\\-18.1739601735111\\\\-21.4032375613439\\\\-25.1507792840947\\end{bmatrix}"
      ],
      "text/plain": [
       "100-element Array{SymPy.Sym,1}:\n",
       " 0.475139888667935\n",
       " 0.586183195458753\n",
       " 0.683449905198745\n",
       " 0.767413438343370\n",
       " 0.838341379354863\n",
       " 0.896361622057405\n",
       " 0.941519457445045\n",
       " 0.973826230249173\n",
       " 0.993300172028415\n",
       "  1.00000000000000\n",
       " 0.994051852287761\n",
       " 0.975670111718066\n",
       " 0.945172651751103\n",
       "                 ⋮\n",
       " -3.73518689605909\n",
       " -4.51190593118255\n",
       " -5.42482022587905\n",
       " -6.49829597129846\n",
       " -7.76027055355033\n",
       " -9.24262090001962\n",
       " -10.9815567541728\n",
       " -13.0180398843830\n",
       " -15.3982302508887\n",
       " -18.1739601735111\n",
       " -21.4032375613439\n",
       " -25.1507792840947"
      ]
     },
     "execution_count": 67,
     "metadata": {},
     "output_type": "execute_result"
    }
   ],
   "source": [
    "y=lagrange(listx,listy).(p)"
   ]
  },
  {
   "cell_type": "code",
   "execution_count": 68,
   "metadata": {},
   "outputs": [
    {
     "data": {
      "image/png": "[encoded data removed]",
      "text/plain": [
       "PyPlot.Figure(PyObject <matplotlib.figure.Figure object at 0x7f49d31b1050>)"
      ]
     },
     "metadata": {},
     "output_type": "display_data"
    }
   ],
   "source": [
    "scatter(listx,listy)\n",
    "plot(p,y)\n",
    "show()"
   ]
  },
  {
   "cell_type": "code",
   "execution_count": null,
   "metadata": {
    "collapsed": true
   },
   "outputs": [],
   "source": []
  }
 ],
 "metadata": {
  "kernelspec": {
   "display_name": "Julia 0.7.0-DEV",
   "language": "julia",
   "name": "julia-0.7"
  },
  "language_info": {
   "file_extension": ".jl",
   "mimetype": "application/julia",
   "name": "julia",
   "version": "0.7.0"
  }
 },
 "nbformat": 4,
 "nbformat_minor": 2
}
