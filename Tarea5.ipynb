{
 "cells": [
  {
   "cell_type": "markdown",
   "metadata": {},
   "source": [
    "## Tarea 5\n",
    "\n",
    "### **Método de integración de Riemann**\n",
    "Una función _f_ acotada definida en un intervalo _[a,b]_ se dice que es Riemann integrable en _[a,b]_ si existe un número  _I_ en los reales tal que, para todo número real positivo $\\epsilon$  existe una $\\delta$ positiva tal que si _P_ es una partición de _[a,b]_ $\\|P\\|<\\delta$  y _S(P,f)_ es cualquier suma de Riemann entonces $|S(P,f)-I|<\\epsilon$ \n",
    "\n",
    "Usualmente para funciones conocidas que sabemos integrables se toma una partición regular del intervalo y se toman los $t_k$ como alguno de los puntos extremos de cada intervalo(notar que si no supiéramos que la función es integrable entonces no podríamos tomar cualquier punto del intervalo arbitrariamente, es decir, no podríamos tomar los valores extremos), tendríamos que revisar que para cualquier valor $t_k$ que tomáramos en cada intervalo $[x_k-1,x_k]$ la suma de Riemann menos algún número real  _I_ es menor en valor absoluto que cualquier $\\epsilon$ que hubiéramos tomado, en caso de cumplirse habríamos demostrado que la función _f_ es integrable según Riemann en _[a,b]_ y habríamos hallado su valor; en caso de no cumplirse no habríamos probado nada en absoluto, cuando llevamos al límite esta partición, se puede demostrar que obtenemos el valor de la integral:\n",
    "\n",
    "$$\\int_a^b f(x)~dx=(b-a)\\frac{f(a)+f(b)}{n}\\sum_{k=1}^{n}\\left( f(a+k\\frac{(b-a)}{n}\\right)$$\n",
    "\n",
    "Esta última expresión es sobre todo útil para funciones que sabemos que son integrables como, por ejemplo, las continuas. Podemos demostrar que toda función que es continua en un intervalo _[a,b]_, es integrable, en cuyo caso lo único que restaría sería encontrar el valor de la integral. Por supuesto, si ya estamos familiarizados con el Segundo Teorema Fundamental del Cálculo entonces basta hallar una función _F(x)_ (denominada primitiva de _f(x)_) cuya derivada nos dé nuestra función original _f(x)_ y entonces el valor de la integral es _F(b)-F(a)_. \n",
    "\n",
    "\n",
    "### **Método de Trapecio**\n",
    "En matemáticas la regla del trapecio es un método de integración numérica, es decir, un método para calcular aproximadamente el valor de la integral definida \n",
    "$$\\int_a^b f(x)~dx$$\n",
    "\n",
    "La regla se basa en aproximar el valor de la integral de f(x) por el de la función lineal que pasa a través de los puntos\n",
    "_(a,f(a))_ y _(b,f(b))_. La integral de ésta es igual al área del trapecio bajo la gráfica de la función lineal. Se sigue que:\n",
    "$$\\int_a^b f(x)~dx~≈(b-a)\\frac{f(a)+f(b)}{2}$$\n",
    "\n",
    "Y el error es:\n",
    "$$-\\frac{(b-a)^3}{12}f^2(\\epsilon)$$\n",
    "donde $\\epsilon$ es un número entre a y b.\n",
    "\n",
    "### **Regla de Simpson de orden 2**\n",
    "La regla de Simpson tiene mayor aproximación que regla de los trapecios. En la regla de los trapecios los puntos sucesivos de la grafica _y=f(x)_ se unen mediante líneas que forman los trapecios, en la regla de Simpson los puntos se unen mediante segmentos de parábolas.La regla o método de Simpson (nombrada así en honor de Thomas Simpson) y a veces llamada regla de Kepler es un método de  integración numérica que se utiliza para obtener la aproximación de la integral:\n",
    "$$\\int_a^b f(x)~dx≈\\frac{(b-a)}{6}[f(a)+4f\\frac{a+b}{2}+f(b)]$$\n",
    "La regla de Simpson de 1/3 resulta cuando se sustituye un polinomio de segundo orden en la ecuación:\n",
    "$$I=\\int_a^b f(x)~dx$$ $$=\\int_a^b f_2(x)~dx$$\n",
    "Si a y b se denominan como $$x_0, x_2~y~f_2(x)$$\n",
    "se representan mediante un polinomio de Lagrange de segundo orden, entonces la integral es:\n",
    "\n",
    "$$I=\\int_{x_0}^{x_2}[\\frac{(x-x_1)(x-x_2)}{(x-x_1)(x_0-x_2)}f(x_0)+\\frac{(x-x_0)(x-x_2)}{(x_1-x_0)(x_1-x_2)}f(x_1)+\\frac{(x-x_0)(x-x_1)}{(x_2-x_0)(x_2-x_1)}f(x_2)]dx$$\n",
    "\n",
    "Después de integrar y reordenar términos, resulta la siguiente ecuación:\n",
    "\n",
    "$$I=(b-a)\\frac{f(x_0)+4f(x_1)+f(x_2)}{6}$$"
   ]
  },
  {
   "cell_type": "code",
   "execution_count": null,
   "metadata": {
    "collapsed": true
   },
   "outputs": [],
   "source": []
  }
 ],
 "metadata": {
  "kernelspec": {
   "display_name": "Julia 0.6.0",
   "language": "julia",
   "name": "julia-0.6"
  },
  "language_info": {
   "file_extension": ".jl",
   "mimetype": "application/julia",
   "name": "julia",
   "version": "0.6.0"
  }
 },
 "nbformat": 4,
 "nbformat_minor": 2
}
