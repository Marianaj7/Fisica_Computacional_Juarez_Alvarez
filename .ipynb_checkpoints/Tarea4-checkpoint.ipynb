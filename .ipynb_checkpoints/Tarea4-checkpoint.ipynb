{
 "cells": [
  {
   "cell_type": "code",
   "execution_count": 37,
   "metadata": {
    "collapsed": false
   },
   "outputs": [],
   "source": [
    "function raiz(init)\n",
    "    list=zeros(100);\n",
    "    x=init\n",
    "    for i in 1:100\n",
    "          f(x)=x^3-x^2-x-1\n",
    "        df(x)=3x^2-2x-1\n",
    "        x=x-f(x)/df(x);\n",
    "        list[i]=x;\n",
    "    end\n",
    "    return (list-list[100])./list[100]\n",
    "end;\n"
   ]
  },
  {
   "cell_type": "code",
   "execution_count": 34,
   "metadata": {
    "collapsed": false
   },
   "outputs": [
    {
     "name": "stderr",
     "output_type": "stream",
     "text": [
      "\u001b[1m\u001b[36mINFO: \u001b[39m\u001b[22m\u001b[36mUpdating METADATA...\n",
      "\u001b[39m\u001b[1m\u001b[36mINFO: \u001b[39m\u001b[22m\u001b[36mComputing changes...\n",
      "\u001b[39m\u001b[1m\u001b[36mINFO: \u001b[39m\u001b[22m\u001b[36mNo packages to install, update or remove\n",
      "\u001b[39m"
     ]
    }
   ],
   "source": [
    "Pkg.update()"
   ]
  },
  {
   "cell_type": "code",
   "execution_count": 35,
   "metadata": {
    "collapsed": false
   },
   "outputs": [],
   "source": [
    "using PyPlot"
   ]
  },
  {
   "cell_type": "code",
   "execution_count": 38,
   "metadata": {
    "collapsed": false
   },
   "outputs": [
    {
     "data": {
      "text/plain": [
       "100-element Array{Float64,1}:\n",
       " 0.00970817 \n",
       " 0.00014014 \n",
       " 2.98234e-8 \n",
       " 1.32796e-15\n",
       " 0.0        \n",
       " 0.0        \n",
       " 0.0        \n",
       " 0.0        \n",
       " 0.0        \n",
       " 0.0        \n",
       " 0.0        \n",
       " 0.0        \n",
       " 0.0        \n",
       " ⋮          \n",
       " 0.0        \n",
       " 0.0        \n",
       " 0.0        \n",
       " 0.0        \n",
       " 0.0        \n",
       " 0.0        \n",
       " 0.0        \n",
       " 0.0        \n",
       " 0.0        \n",
       " 0.0        \n",
       " 0.0        \n",
       " 0.0        "
      ]
     },
     "execution_count": 38,
     "metadata": {},
     "output_type": "execute_result"
    }
   ],
   "source": [
    "raiz(2)"
   ]
  },
  {
   "cell_type": "code",
   "execution_count": 39,
   "metadata": {
    "collapsed": false
   },
   "outputs": [
    {
     "data": {
      "text/plain": [
       "100-element Array{Float64,1}:\n",
       " 0.281226   \n",
       " 0.0737823  \n",
       " 0.00710236 \n",
       " 7.54337e-5 \n",
       " 8.64221e-9 \n",
       " 1.20723e-16\n",
       " 0.0        \n",
       " 0.0        \n",
       " 0.0        \n",
       " 0.0        \n",
       " 0.0        \n",
       " 0.0        \n",
       " 0.0        \n",
       " ⋮          \n",
       " 0.0        \n",
       " 0.0        \n",
       " 0.0        \n",
       " 0.0        \n",
       " 0.0        \n",
       " 0.0        \n",
       " 0.0        \n",
       " 0.0        \n",
       " 0.0        \n",
       " 0.0        \n",
       " 0.0        \n",
       " 0.0        "
      ]
     },
     "execution_count": 39,
     "metadata": {},
     "output_type": "execute_result"
    }
   ],
   "source": [
    "raiz(3.1)"
   ]
  },
  {
   "cell_type": "code",
   "execution_count": 40,
   "metadata": {
    "collapsed": false
   },
   "outputs": [
    {
     "data": {
      "text/plain": [
       "100-element Array{Float64,1}:\n",
       " -2.77346\n",
       " -2.14787\n",
       " -1.72992\n",
       " -1.43251\n",
       " -1.1397 \n",
       " -2.69874\n",
       " -2.09832\n",
       " -1.69615\n",
       " -1.40596\n",
       " -1.09793\n",
       " -1.95807\n",
       " -1.59921\n",
       " -1.32432\n",
       "  ⋮      \n",
       "  0.0    \n",
       "  0.0    \n",
       "  0.0    \n",
       "  0.0    \n",
       "  0.0    \n",
       "  0.0    \n",
       "  0.0    \n",
       "  0.0    \n",
       "  0.0    \n",
       "  0.0    \n",
       "  0.0    \n",
       "  0.0    "
      ]
     },
     "execution_count": 40,
     "metadata": {},
     "output_type": "execute_result"
    }
   ],
   "source": [
    "raiz(-5)"
   ]
  },
  {
   "cell_type": "code",
   "execution_count": 41,
   "metadata": {
    "collapsed": false
   },
   "outputs": [
    {
     "data": {
      "text/plain": [
       "100-element Array{Float64,1}:\n",
       " -3.85502\n",
       " -2.86391\n",
       " -2.2078 \n",
       " -1.77052\n",
       " -1.46355\n",
       " -1.18208\n",
       " 69.9363 \n",
       " 46.3525 \n",
       " 30.6306 \n",
       " 20.1504 \n",
       " 13.165  \n",
       "  8.5104 \n",
       "  5.41094\n",
       "  ⋮      \n",
       "  0.0    \n",
       "  0.0    \n",
       "  0.0    \n",
       "  0.0    \n",
       "  0.0    \n",
       "  0.0    \n",
       "  0.0    \n",
       "  0.0    \n",
       "  0.0    \n",
       "  0.0    \n",
       "  0.0    \n",
       "  0.0    "
      ]
     },
     "execution_count": 41,
     "metadata": {},
     "output_type": "execute_result"
    }
   ],
   "source": [
    "raiz(-8)"
   ]
  },
  {
   "cell_type": "code",
   "execution_count": 42,
   "metadata": {
    "collapsed": true
   },
   "outputs": [],
   "source": [
    "list1=raiz(2);\n",
    "list2=raiz(3.1);\n",
    "list3=raiz(-5);\n",
    "list4=raiz(-8);"
   ]
  },
  {
   "cell_type": "code",
   "execution_count": 23,
   "metadata": {
    "collapsed": false
   },
   "outputs": [
    {
     "name": "stderr",
     "output_type": "stream",
     "text": [
      "\u001b[1m\u001b[36mINFO: \u001b[39m\u001b[22m\u001b[36mPackage PyPlot is already installed\n",
      "\u001b[39m\u001b[1m\u001b[36mINFO: \u001b[39m\u001b[22m\u001b[36mMETADATA is out-of-date — you may not have the latest version of PyPlot\n",
      "\u001b[39m\u001b[1m\u001b[36mINFO: \u001b[39m\u001b[22m\u001b[36mUse `Pkg.update()` to get the latest versions of your packages\n",
      "\u001b[39m"
     ]
    }
   ],
   "source": [
    "Pkg.add(\"PyPlot\")\n"
   ]
  },
  {
   "cell_type": "code",
   "execution_count": 24,
   "metadata": {
    "collapsed": false
   },
   "outputs": [
    {
     "name": "stderr",
     "output_type": "stream",
     "text": [
      "\u001b[1m\u001b[36mINFO: \u001b[39m\u001b[22m\u001b[36mRecompiling stale cache file /home/juser/.julia/lib/v0.6/URIParser.ji for module URIParser.\n",
      "\u001b[39m\u001b[1m\u001b[36mINFO: \u001b[39m\u001b[22m\u001b[36mRecompiling stale cache file /home/juser/.julia/lib/v0.6/Conda.ji for module Conda.\n",
      "\u001b[39m\u001b[1m\u001b[36mINFO: \u001b[39m\u001b[22m\u001b[36mRecompiling stale cache file /home/juser/.julia/lib/v0.6/PyPlot.ji for module PyPlot.\n",
      "\u001b[39m"
     ]
    }
   ],
   "source": [
    "using PyPlot"
   ]
  },
  {
   "cell_type": "code",
   "execution_count": 43,
   "metadata": {
    "collapsed": false
   },
   "outputs": [
    {
     "data": {
      "image/png": "[encoded data removed]",
      "text/plain": [
       "PyPlot.Figure(PyObject <matplotlib.figure.Figure object at 0x7fdedd280c90>)"
      ]
     },
     "metadata": {},
     "output_type": "display_data"
    }
   ],
   "source": [
    "yscale(\"symlog\", linthreshy=0.05)\n",
    "plot(real(list1))\n",
    "plot(real(list2))\n",
    "plot(real(list3))\n",
    "plot(real(list4))\n",
    "show();"
   ]
  },
  {
   "cell_type": "code",
   "execution_count": null,
   "metadata": {
    "collapsed": true
   },
   "outputs": [],
   "source": []
  }
 ],
 "metadata": {
  "kernelspec": {
   "display_name": "Julia 0.6.0",
   "language": "julia",
   "name": "julia-0.6"
  },
  "language_info": {
   "file_extension": ".jl",
   "mimetype": "application/julia",
   "name": "julia",
   "version": "0.6.0"
  }
 },
 "nbformat": 4,
 "nbformat_minor": 2
}
