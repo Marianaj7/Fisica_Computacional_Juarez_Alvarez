{
 "cells": [
  {
   "cell_type": "code",
   "execution_count": 13,
   "metadata": {
    "collapsed": false
   },
   "outputs": [],
   "source": [
    "function raiz(init)\n",
    "    list=zeros(100);\n",
    "    x=init\n",
    "    for i in 1:100\n",
    "          f(x)=x^3-x^2-x-1\n",
    "        df(x)=3x^2-2x-1\n",
    "        x=x-f(x)/df(x);\n",
    "        list[i]=x;\n",
    "    end\n",
    "    return list\n",
    "end;\n"
   ]
  },
  {
   "cell_type": "code",
   "execution_count": 34,
   "metadata": {
    "collapsed": false
   },
   "outputs": [
    {
     "name": "stderr",
     "output_type": "stream",
     "text": [
      "\u001b[1m\u001b[36mINFO: \u001b[39m\u001b[22m\u001b[36mUpdating METADATA...\n",
      "\u001b[39m\u001b[1m\u001b[36mINFO: \u001b[39m\u001b[22m\u001b[36mComputing changes...\n",
      "\u001b[39m\u001b[1m\u001b[36mINFO: \u001b[39m\u001b[22m\u001b[36mNo packages to install, update or remove\n",
      "\u001b[39m"
     ]
    }
   ],
   "source": [
    "Pkg.update()"
   ]
  },
  {
   "cell_type": "code",
   "execution_count": 35,
   "metadata": {
    "collapsed": false
   },
   "outputs": [],
   "source": [
    "using PyPlot"
   ]
  },
  {
   "cell_type": "code",
   "execution_count": 17,
   "metadata": {
    "collapsed": false
   },
   "outputs": [
    {
     "data": {
      "text/plain": [
       "100-element Array{Float64,1}:\n",
       " 1.85714\n",
       " 1.83954\n",
       " 1.83929\n",
       " 1.83929\n",
       " 1.83929\n",
       " 1.83929\n",
       " 1.83929\n",
       " 1.83929\n",
       " 1.83929\n",
       " 1.83929\n",
       " 1.83929\n",
       " 1.83929\n",
       " 1.83929\n",
       " ⋮      \n",
       " 1.83929\n",
       " 1.83929\n",
       " 1.83929\n",
       " 1.83929\n",
       " 1.83929\n",
       " 1.83929\n",
       " 1.83929\n",
       " 1.83929\n",
       " 1.83929\n",
       " 1.83929\n",
       " 1.83929\n",
       " 1.83929"
      ]
     },
     "execution_count": 17,
     "metadata": {},
     "output_type": "execute_result"
    }
   ],
   "source": [
    "raiz(2)"
   ]
  },
  {
   "cell_type": "code",
   "execution_count": 18,
   "metadata": {
    "collapsed": false
   },
   "outputs": [
    {
     "data": {
      "text/plain": [
       "100-element Array{Float64,1}:\n",
       " 2.35654\n",
       " 1.97499\n",
       " 1.85235\n",
       " 1.83943\n",
       " 1.83929\n",
       " 1.83929\n",
       " 1.83929\n",
       " 1.83929\n",
       " 1.83929\n",
       " 1.83929\n",
       " 1.83929\n",
       " 1.83929\n",
       " 1.83929\n",
       " ⋮      \n",
       " 1.83929\n",
       " 1.83929\n",
       " 1.83929\n",
       " 1.83929\n",
       " 1.83929\n",
       " 1.83929\n",
       " 1.83929\n",
       " 1.83929\n",
       " 1.83929\n",
       " 1.83929\n",
       " 1.83929\n",
       " 1.83929"
      ]
     },
     "execution_count": 18,
     "metadata": {},
     "output_type": "execute_result"
    }
   ],
   "source": [
    "raiz(3.1)"
   ]
  },
  {
   "cell_type": "code",
   "execution_count": 19,
   "metadata": {
    "collapsed": false
   },
   "outputs": [
    {
     "data": {
      "text/plain": [
       "100-element Array{Float64,1}:\n",
       " -3.2619  \n",
       " -2.11125 \n",
       " -1.34252 \n",
       " -0.795501\n",
       " -0.25694 \n",
       " -3.12447 \n",
       " -2.02012 \n",
       " -1.28043 \n",
       " -0.74668 \n",
       " -0.180117\n",
       " -1.76217 \n",
       " -1.10212 \n",
       " -0.596524\n",
       "  ⋮       \n",
       "  1.83929 \n",
       "  1.83929 \n",
       "  1.83929 \n",
       "  1.83929 \n",
       "  1.83929 \n",
       "  1.83929 \n",
       "  1.83929 \n",
       "  1.83929 \n",
       "  1.83929 \n",
       "  1.83929 \n",
       "  1.83929 \n",
       "  1.83929 "
      ]
     },
     "execution_count": 19,
     "metadata": {},
     "output_type": "execute_result"
    }
   ],
   "source": [
    "raiz(-5)"
   ]
  },
  {
   "cell_type": "code",
   "execution_count": 20,
   "metadata": {
    "collapsed": false
   },
   "outputs": [
    {
     "data": {
      "text/plain": [
       "100-element Array{Float64,1}:\n",
       "  -5.25121 \n",
       "  -3.42826 \n",
       "  -2.22149 \n",
       "  -1.4172  \n",
       "  -0.8526  \n",
       "  -0.334889\n",
       " 130.472   \n",
       "  87.0948  \n",
       "  58.1778  \n",
       "  38.9016  \n",
       "  26.0535  \n",
       "  17.4923  \n",
       "  11.7916  \n",
       "   ⋮       \n",
       "   1.83929 \n",
       "   1.83929 \n",
       "   1.83929 \n",
       "   1.83929 \n",
       "   1.83929 \n",
       "   1.83929 \n",
       "   1.83929 \n",
       "   1.83929 \n",
       "   1.83929 \n",
       "   1.83929 \n",
       "   1.83929 \n",
       "   1.83929 "
      ]
     },
     "execution_count": 20,
     "metadata": {},
     "output_type": "execute_result"
    }
   ],
   "source": [
    "raiz(-8)"
   ]
  },
  {
   "cell_type": "code",
   "execution_count": 21,
   "metadata": {
    "collapsed": true
   },
   "outputs": [],
   "source": [
    "list1=raiz(2);\n",
    "list2=raiz(3.1);\n",
    "list3=raiz(-5);\n",
    "list4=raiz(-8);"
   ]
  },
  {
   "cell_type": "code",
   "execution_count": 23,
   "metadata": {
    "collapsed": false
   },
   "outputs": [
    {
     "name": "stderr",
     "output_type": "stream",
     "text": [
      "\u001b[1m\u001b[36mINFO: \u001b[39m\u001b[22m\u001b[36mPackage PyPlot is already installed\n",
      "\u001b[39m\u001b[1m\u001b[36mINFO: \u001b[39m\u001b[22m\u001b[36mMETADATA is out-of-date — you may not have the latest version of PyPlot\n",
      "\u001b[39m\u001b[1m\u001b[36mINFO: \u001b[39m\u001b[22m\u001b[36mUse `Pkg.update()` to get the latest versions of your packages\n",
      "\u001b[39m"
     ]
    }
   ],
   "source": [
    "Pkg.add(\"PyPlot\")\n"
   ]
  },
  {
   "cell_type": "code",
   "execution_count": 24,
   "metadata": {
    "collapsed": false
   },
   "outputs": [
    {
     "name": "stderr",
     "output_type": "stream",
     "text": [
      "\u001b[1m\u001b[36mINFO: \u001b[39m\u001b[22m\u001b[36mRecompiling stale cache file /home/juser/.julia/lib/v0.6/URIParser.ji for module URIParser.\n",
      "\u001b[39m\u001b[1m\u001b[36mINFO: \u001b[39m\u001b[22m\u001b[36mRecompiling stale cache file /home/juser/.julia/lib/v0.6/Conda.ji for module Conda.\n",
      "\u001b[39m\u001b[1m\u001b[36mINFO: \u001b[39m\u001b[22m\u001b[36mRecompiling stale cache file /home/juser/.julia/lib/v0.6/PyPlot.ji for module PyPlot.\n",
      "\u001b[39m"
     ]
    }
   ],
   "source": [
    "using PyPlot"
   ]
  },
  {
   "cell_type": "code",
   "execution_count": 26,
   "metadata": {
    "collapsed": false
   },
   "outputs": [
    {
     "data": {
      "image/png": "[encoded data removed]",
      "text/plain": [
       "PyPlot.Figure(PyObject <matplotlib.figure.Figure object at 0x7fdedf5467d0>)"
      ]
     },
     "metadata": {},
     "output_type": "display_data"
    }
   ],
   "source": [
    "yscale(\"symlog\", linthreshy=0.05)\n",
    "plot(real(list1))\n",
    "plot(real(list2))\n",
    "plot(real(list3))\n",
    "plot(real(list4))\n",
    "show();"
   ]
  },
  {
   "cell_type": "code",
   "execution_count": null,
   "metadata": {
    "collapsed": true
   },
   "outputs": [],
   "source": []
  }
 ],
 "metadata": {
  "kernelspec": {
   "display_name": "Julia 0.6.0",
   "language": "julia",
   "name": "julia-0.6"
  },
  "language_info": {
   "file_extension": ".jl",
   "mimetype": "application/julia",
   "name": "julia",
   "version": "0.6.0"
  }
 },
 "nbformat": 4,
 "nbformat_minor": 2
}
