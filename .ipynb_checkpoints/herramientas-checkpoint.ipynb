{
 "cells": [
  {
   "cell_type": "markdown",
   "metadata": {},
   "source": [
    "# Método de Newton"
   ]
  },
  {
   "cell_type": "code",
   "execution_count": 1,
   "metadata": {},
   "outputs": [
    {
     "data": {
      "text/plain": [
       "herramientas"
      ]
     },
     "execution_count": 1,
     "metadata": {},
     "output_type": "execute_result"
    }
   ],
   "source": [
    "__precompile__() # Este comando es para que julia precompile el paquete\n",
    "\n",
    "module herramientas\n",
    "\n",
    "export metodo_newton\n",
    "\n",
    "#Documentación del método de Newton\"\n",
    "function metodo_newton(f,df,x0)\n",
    "    z=x0\n",
    "    # Se asigna x0 a z para una primera iteración\n",
    "    # Se itera 100 veces\n",
    "    for i in 1:100\n",
    "    z=z-(f(z)/df(z));\n",
    "    end\n",
    "    return z\n",
    "end\n",
    "\n",
    "end"
   ]
  },
  {
   "cell_type": "markdown",
   "metadata": {},
   "source": [
    "# Métodos de integración"
   ]
  },
  {
   "cell_type": "code",
   "execution_count": 2,
   "metadata": {},
   "outputs": [
    {
     "name": "stderr",
     "output_type": "stream",
     "text": [
      "WARNING: replacing module herramientas\n"
     ]
    },
    {
     "data": {
      "text/plain": [
       "herramientas"
      ]
     },
     "execution_count": 2,
     "metadata": {},
     "output_type": "execute_result"
    }
   ],
   "source": [
    "__precompile__() # Este comando es para que julia precompile el paquete\n",
    "\n",
    "module herramientas\n",
    "\n",
    "export rectangulo\n",
    "\n",
    "#Documentación de los métodos de integración\"\n",
    "#El programa recibe tanto la función como el tamaño del intervalo, ambos antes definidos.\n",
    "function rectangulo(f,b)\n",
    "    p=0\n",
    "    #este for hace la iteración desde 1 hasta el tamaño del intervalo -1\n",
    "    for i in 1:length(b)-1\n",
    "        #a corresponde al límite inferior del subintevalo, según cual sea el valor de i a elegir, de la misma manera, c corresponde al límite superior.\n",
    "    a=b[i]\n",
    "    c=b[i+1]\n",
    "    p=p+((c-a)*f((a+c)/2))\n",
    "    end\n",
    "    return p\n",
    "end\n",
    "\n",
    "\n",
    "export trapecio\n",
    "#Método del trapecio\n",
    "function trapecio(f,b)\n",
    "    p=0\n",
    "    for i in 1:length(b)-1\n",
    "    a=b[i]\n",
    "    c=b[i+1]\n",
    "        #esta vez se usa la fórmula del área del trapecio para la aproximación.\n",
    "    p=p+((c-a)*((f(a)+f(c))/2))\n",
    "    end\n",
    "    return p\n",
    "end\n",
    "\n",
    "\n",
    "export Simpson\n",
    "function Simpson(f,b)\n",
    "    p=0\n",
    "    for i in 1:length(b)-1\n",
    "    a=b[i]\n",
    "    c=b[i+1]\n",
    "        #el código para calcular la integral por el método de Simpson es completamente análogo a los dos anteriores, simplemente varía en la forma de aproximarse a la integral, ahora se hace mediante un polinomio de segundo grado.\n",
    "    p=p+((c-a)/6)*(f(a)+4f((a+c)/2)+f(c))\n",
    "    end\n",
    "    return p\n",
    "end\n",
    "\n",
    "end"
   ]
  },
  {
   "cell_type": "markdown",
   "metadata": {},
   "source": [
    "# Euler"
   ]
  },
  {
   "cell_type": "code",
   "execution_count": 4,
   "metadata": {},
   "outputs": [
    {
     "name": "stderr",
     "output_type": "stream",
     "text": [
      "WARNING: replacing module herramientas\n"
     ]
    },
    {
     "data": {
      "text/plain": [
       "herramientas"
      ]
     },
     "execution_count": 4,
     "metadata": {},
     "output_type": "execute_result"
    }
   ],
   "source": [
    "__precompile__() # Este comando es para que julia precompile el paquete\n",
    "\n",
    "module herramientas\n",
    "\n",
    "export euler\n",
    "\n",
    "#Documentación de los métodos de Euler\"\n",
    "function euler(f,list,x0)\n",
    "     x = x0\n",
    "     h = list[2]-list[1]\n",
    "     listx=[]\n",
    "     push!(listx,x)\n",
    "     for i in 2:length(list)\n",
    "        t = i*h\n",
    "        x = x + f(x,t)*h\n",
    "        push!(listx,x) \n",
    "     end\n",
    "     return listx\n",
    "end\n",
    "\n",
    "\n",
    "export Euler_implicito\n",
    "function metodo_Newton(f,x0,t)\n",
    "    z=x0\n",
    "    h=[]\n",
    "    df=diff(f(x,t),x)\n",
    "    for i in 1:100\n",
    "    z=z-(f(z,t)/df(z,t));\n",
    "        push!(h,z)\n",
    "    end\n",
    "    return z\n",
    "end\n",
    "\n",
    "function Euler_implicito(f,x0,t0,t,h)\n",
    "    listt=t0:h:t\n",
    "    listx=[x0]\n",
    "    for i in 1:length(listt)-1\n",
    "         g(x)=x-x0-h*f(x,listt[i])\n",
    "         x0=x0+h*f(metodo_Newton(g,Float64(x0),listt[i]),listt[i+1])\n",
    "        push!(listx,x0)\n",
    "    end\n",
    "    return listt,listx\n",
    "end\n",
    "end"
   ]
  },
  {
   "cell_type": "markdown",
   "metadata": {},
   "source": [
    "# Runge Kutta"
   ]
  },
  {
   "cell_type": "code",
   "execution_count": 5,
   "metadata": {},
   "outputs": [
    {
     "name": "stderr",
     "output_type": "stream",
     "text": [
      "WARNING: replacing module herramientas\n"
     ]
    },
    {
     "data": {
      "text/plain": [
       "herramientas"
      ]
     },
     "execution_count": 5,
     "metadata": {},
     "output_type": "execute_result"
    }
   ],
   "source": [
    "__precompile__() # Este comando es para que julia precompile el paquete\n",
    "\n",
    "module herramientas\n",
    "\n",
    "export runge_kutta2\n",
    "\n",
    "#Documentación del método de Runge Kutta\n",
    "function runge_kutta2(f,list,x0)\n",
    "     x = x0\n",
    "     h = list[2]-list[1]\n",
    "     listx=[]\n",
    "     push!(listx,x)\n",
    "     for i in 2:length(list)\n",
    "        t = i*h\n",
    "        k1 = f(x,t);\n",
    "        k2 = f(x+(h/2)*k1,t+(h/2));\n",
    "        k3 = f(x+(h/2)*k2, t+(h/2));\n",
    "        k4 = f(x+h*k3, t+h);\n",
    "        x = x+(h/6)*(k1+2*k2+2*k3+k4);\n",
    "        push!(listx,x) \n",
    "     end\n",
    "     return listx\n",
    "end\n",
    "\n",
    "end"
   ]
  },
  {
   "cell_type": "code",
   "execution_count": null,
   "metadata": {},
   "outputs": [],
   "source": []
  }
 ],
 "metadata": {
  "celltoolbar": "Attachments",
  "kernelspec": {
   "display_name": "Julia 0.5.2",
   "language": "julia",
   "name": "julia-0.5"
  },
  "language_info": {
   "file_extension": ".jl",
   "mimetype": "application/julia",
   "name": "julia",
   "version": "0.5.2"
  },
  "widgets": {
   "application/vnd.jupyter.widget-state+json": {
    "state": {},
    "version_major": 2,
    "version_minor": 0
   }
  }
 },
 "nbformat": 4,
 "nbformat_minor": 2
}
