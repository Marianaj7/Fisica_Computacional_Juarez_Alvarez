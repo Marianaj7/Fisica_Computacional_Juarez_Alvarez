{
 "cells": [
  {
   "cell_type": "markdown",
   "metadata": {},
   "source": [
    " Formación del sistema de ecuaciones\n",
    "\n",
    "Problema de Dirichlet: Un problema de Dirichlet consiste en encontrar la solución de una ecuación diferencial parcial donde las condiciones a la frontera estan definidas por el valor del campo.\n",
    "\n",
    "# Ejercicio1:\n",
    "Escriba la forma del operador laplaciano utilizando diferencias finitas simétricas. Es decir, discretice: $\\nabla^2=\\frac{\\partial^2 f}{\\partial x^2}+\\frac{\\partial^2 f}{\\partial y^2}+\\frac{\\partial^2 f}{\\partial z^2}$"
   ]
  },
  {
   "cell_type": "markdown",
   "metadata": {},
   "source": [
    "$Solución$\n",
    "\n",
    "\n",
    "Comenzamos obteniendo la derivada de orden dos en una dimensiòn, entonces el desarrollo en serie de Taylor corresponde a las siguientes expresiones:\n",
    "\n",
    "$$f(x+h)=f(x)+hf'(x)+\\frac{h^2}{2!}f''(x)+\\frac{h^3}{3!}f'''(x)+\\frac{h^4}{4!}f^{iv}(\\epsilon_{p})$$\n",
    "$$f(x-h)=f(x)-hf'(x)+\\frac{h^2}{2!}f''(x)-\\frac{h^3}{3!}f'''(x)+\\frac{h^4}{4!}f^{iv}(\\epsilon_{r})$$\n",
    "\n",
    "Sumando las dos ecuaciones obtenidas anteriormente logramos obtener la aproximaciòn a la segunda derivada, es decir:\n",
    "\n",
    "$$f''(x)=\\frac{f(x-h)-2f(x)+f(x+h)}{h^2}-\\frac{h^2}{4!}(f^{iv}(\\epsilon_{p})+f^{iv}(\\epsilon_{r}))$$\n",
    "\n",
    "De esta forma la aproximaciòn a la segunda derivada usando diferencias finitas es:\n",
    "\n",
    "$$f''(x)\\approx\\frac{f(x-h)-2f(x)+f(x+h)}{h^2}\\;(1)$$\n",
    "\n",
    "Ahora, utilizando la expresión $(1)$ podemos obtener la aproximaciòn a las segundas derivadas parciales en tres variables $x,y,z$:\n",
    "\n",
    "\n",
    "$$\\frac{\\partial^2 f}{\\partial x^2}\\approx\\frac{f(x-h_{1},y,z)-2f(x,y,z)+f(x+h_{1},y,z)}{h^{2}_{x}}$$\n",
    "\n",
    "\n",
    "$$\\frac{\\partial^2 f}{\\partial y^2}\\approx\\frac{f(x,y-h_{2},z)-2f(x,y,z)+f(x,y+h_{2},z)}{h^{2}_{y}}$$\n",
    "\n",
    "\n",
    "$$\\frac{\\partial^2 f}{\\partial z^2}\\approx\\frac{f(x,y,z-h_{3})-2f(x,y,z)+f(x,y,z+h_{3})}{h^{2}_{z}}$$\n",
    "\n",
    "Finalmente, usemos lo índices $i,j,k$ para denotar las tres variables ya mencionadas en las expresiones anteriores, esto es:\n",
    "\n",
    "$$\\frac{\\partial^2 f(x_{i},y_{j},z_{k})}{\\partial x^2}\\approx\\frac{f(x_{i}-h_{1},y_{j},z_{k})-2f(x_{i},y_{j},z_{k})+f(x_{i}+h_{1},y_{j},z_{k})}{h^{2}_{x}}$$\n",
    "$$\\approx\\frac{f_{i-1,j,k}-2f_{i,j,k}+f_{i+1,j,k}}{h^{2}_{x}}$$\n",
    "\n",
    "\n",
    "$$\\frac{\\partial^2 f}{\\partial y^2}\\approx\\frac{f(x_{i},y_{j}-h_{2},z_{k})-2f(x_{i},y_{j},z_{k})+f(x_{i},y_{j}+h_{2},z_{k})}{h^{2}_{y}}$$\n",
    "$$\\approx\\frac{f_{i,j-1,k}-2f_{i,j,k}+f_{i,j+1,k}}{h^{2}_{y}}$$\n",
    "\n",
    "$$\\frac{\\partial^2 f}{\\partial z^2}\\approx\\frac{f(x_{i},y_{j},z_{k}-h_{3})-2f(x_{i},y_{j},z_{k})+f(x_{i},y_{j},z_{k}+h_{3})}{h^{2}_{z}}$$\n",
    "$$\\approx\\frac{f_{i,j,k-1}-2f_{i,j,k}+f_{i,j,k+1}}{h^{2}_{z}}$$\n",
    "\n",
    "\n",
    "Por último sustituimos las derivadas parciales de segundo orden  en el operador Laplaciano $\\nabla^2f(x,y,z)$:\n",
    "\n",
    "$$\\nabla^2f(x,y,z)=\\frac{f_{i-1,j,k}-2f_{i,j,k}+f_{i+1,j,k}}{h^{2}_{x}}+\\frac{f_{i,j-1,k}-2f_{i,j,k}+f_{i,j+1,k}}{h^{2}_{y}}+\\frac{f_{i,j,k-1}-2f_{i,j,k}+f_{i,j,k+1}}{h^{2}_{z}}$$\n",
    "\n",
    "Esta última expresión corresponde a la discretización de la ecuación de Laplace."
   ]
  },
  {
   "cell_type": "markdown",
   "metadata": {},
   "source": [
    "# Ejercicio 2:\n",
    "(condiciones a la frontera de Dirichlet). Discretice la ecuación $$ \\frac{d^2f}{dx^2}, $$ en el intervalo $[0,1]$, y aplicando el operador laplaciano discretizado obtenga el sistema de ecuaciones algebraicas lineales correspondientes al problema de Dirichlet: $f(0) = a$ y $f(1) = b$ dividiendo el intervalo $[0,1]$ en $5$ puntos separados por $h$.\n",
    "Escriba el sistema lineal de ecuaciones que surge, usando $\\LaTeX$ en el notebook de la tarea que sigue."
   ]
  },
  {
   "cell_type": "markdown",
   "metadata": {},
   "source": [
    "$Solución$\n",
    "\n",
    "Para la resolución de este ejercicio tomemos en cuenta la discretización de la ecuación de Laplace, únicamente en la componente x, es decir:\n",
    "\n",
    "$$\\frac{f_{i-1,j,k}-2f_{i,j,k}+f_{i+1,j,k}}{h^{2}_{x}}=0$$\n",
    "\n",
    "Dividiendo el intervalo $[0,1]$  en 5 puntos, tenemos que $i=1,2,3,4,5$. De esta manera, obtenemos el sistema lineal de ecuaciones que surge:\n",
    "\n",
    "$$f_{3}-2f_{2}+f_{1}=0$$\n",
    "$$f_{4}-2f_{3}+f_{2}=0$$\n",
    "$$f_{5}-2f_{4}+f_{3}=0$$\n",
    "\n",
    "Finalmente, tomemos en cuenta la condición de Dirichlet $f(0) = a$ y $f(1) = b$, aquí debemos percatarnos que $f_{1}=a$ y $f_{5}=b$. Por lo tanto:\n",
    "\n",
    "$$f_{3}-2f_{2}+a=0$$\n",
    "$$f_{4}-2f_{3}+f_{2}=0$$\n",
    "$$b-2f_{4}+f_{3}=0$$"
   ]
  },
  {
   "cell_type": "markdown",
   "metadata": {},
   "source": [
    "# Ejercicio 3:\n",
    "(condiciones a la frontera de Neumann). Hacer lo mismo para condiciones de Neumann, es decir, fijando en los extremos el valor de la primera derivada de la función. Para esto utilice la derivada hacia adeltante en las orillas, es decir, si $f'(0)=a$ y $f'(1)=b$, entonces $(f_1-f_0)/h=a$, etc. No olvide que debe resultar un sistema de ecuación cuya dimensión sea el número de incognitas.\n",
    "Escriba el sistema lineal de ecuaciones que surge."
   ]
  },
  {
   "cell_type": "markdown",
   "metadata": {},
   "source": [
    "$Solución:$\n",
    "\n",
    "Utilizando las hipótesis del problema y algunas deducciones del inciso anterior se tiene que:\n",
    "\n",
    "\n",
    "$$\\frac{(f_2-f_1)}{h}=a$$\n",
    "\n",
    "$$\\frac{(f_5-f_4)}{h}=b$$  \n",
    "\n",
    "De esta manera: \n",
    "$$f_{2}-f_{1}-ah=0$$\n",
    "$$f_{5}-f_{4}-bh=0$$\n",
    "\n",
    "Por lo que ahora será necesario hallar las expresiones que nos hagan falta, mediante un proceso análogo al del ejercicio anterior, esto es : \n",
    "\n",
    "$$f_{5}-2f_{4}+f_{3}=0$$\n",
    "$$f_{4}-2f_{3}+f_{2}=0$$\n",
    "$$f_{3}-2f_{4}+f_{1}=0$$\n",
    "\n",
    "Finalmente, obtenemos el sistema lineal de ecuaciones que surge:\n",
    "\n",
    "$$f_{2}-f_{1}-ah=0$$\n",
    "$$f_{3}-2f_{2}+f_{1}=0$$\n",
    "$$f_{4}-2f_{3}+f_{2}=0$$\n",
    "$$f_{5}-2f_{4}+f_{3}=0$$\n",
    "$$f_{5}-f_{4}-bh=0$$"
   ]
  },
  {
   "cell_type": "markdown",
   "metadata": {},
   "source": [
    "# Ejercicio 4:\n",
    "(indexación). Julia es más eficiente si se utiliza un único índice para acceder a los elementos de una matriz, además que puede simplificar algunos problemas. Escribe una función $\\phi$ que traduzca un par de índices $i,j$ a un único índice $k$, es decir: $$\\phi: (i,j) \\mapsto k.$$ También encuentren $\\phi^{-1}$. Note que $\\phi$ deberá depender de las dimensiones del arreglo, por lo menos de una de ellas."
   ]
  },
  {
   "cell_type": "markdown",
   "metadata": {},
   "source": [
    "$Solución:$\n",
    "\n",
    "Para una matriz multidimensional, el elemento con índices i , j tendría la dirección B + c · i + d · j , donde los coeficientes c y d son los incrementos de dirección de fila y columna , respectivamente.\n",
    "\n",
    "De manera más general, en una matriz k- dimensional, la dirección de un elemento con índices i 1 , i 2 , ..., i k es j + c 1 · i 1 + c 2 · i 2 + ... + c k · i k .\n",
    "\n",
    "Así, podremos estrablecer la función $\\phi$ de la forma:\n",
    "\n",
    "$$\\phi(i,j)=(i-1)C+ j=k$$"
   ]
  },
  {
   "cell_type": "code",
   "execution_count": null,
   "metadata": {},
   "outputs": [],
   "source": []
  }
 ],
 "metadata": {
  "kernelspec": {
   "display_name": "Julia 0.5.2",
   "language": "julia",
   "name": "julia-0.5"
  },
  "language_info": {
   "file_extension": ".jl",
   "mimetype": "application/julia",
   "name": "julia",
   "version": "0.5.2"
  }
 },
 "nbformat": 4,
 "nbformat_minor": 2
}
