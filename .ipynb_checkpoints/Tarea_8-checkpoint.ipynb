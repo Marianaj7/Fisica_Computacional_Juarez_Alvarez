{
 "cells": [
  {
   "cell_type": "code",
   "execution_count": 2,
   "metadata": {
    "collapsed": false
   },
   "outputs": [
    {
     "data": {
      "text/plain": [
       "f (generic function with 1 method)"
      ]
     },
     "execution_count": 2,
     "metadata": {},
     "output_type": "execute_result"
    }
   ],
   "source": [
    "#Ejercicio 1\n",
    "#Comenzamos definiendo la función a derivar.\n",
    "function f(x)\n",
    "    return x^2\n",
    "end"
   ]
  },
  {
   "cell_type": "code",
   "execution_count": 3,
   "metadata": {
    "collapsed": false
   },
   "outputs": [
    {
     "data": {
      "text/plain": [
       "derivada (generic function with 1 method)"
      ]
     },
     "execution_count": 3,
     "metadata": {},
     "output_type": "execute_result"
    }
   ],
   "source": [
    "#La función derivada recibe tanto la función, como un punto x en el que se desea evaluar la derivada, y h.\n",
    "function derivada(f,x,h)\n",
    "    #La derivada de la función f en un punto x está definida como sigue:\n",
    "    f=(f(x+h)-f(x))/h\n",
    "        return f #el programa regresa una aproximación del valor de la derivada en el punto x.\n",
    "    end"
   ]
  },
  {
   "cell_type": "code",
   "execution_count": 4,
   "metadata": {
    "collapsed": false
   },
   "outputs": [
    {
     "data": {
      "text/plain": [
       "4.100000000000001"
      ]
     },
     "execution_count": 4,
     "metadata": {},
     "output_type": "execute_result"
    }
   ],
   "source": [
    "derivada(f,2,0.1)"
   ]
  },
  {
   "cell_type": "code",
   "execution_count": 5,
   "metadata": {
    "collapsed": false
   },
   "outputs": [
    {
     "data": {
      "text/plain": [
       "4.009999999999891"
      ]
     },
     "execution_count": 5,
     "metadata": {},
     "output_type": "execute_result"
    }
   ],
   "source": [
    "#Por último, se hacen dos pruebas del programa con el fin de mostrar que entre más pequeño sea h, el valor de la aproximación de la derivada es cada vez más exacta.\n",
    "derivada(f,2,0.01)"
   ]
  },
  {
   "cell_type": "markdown",
   "metadata": {
    "collapsed": true
   },
   "source": [
    "# Ejercicio 7\n",
    "\n",
    "Para comenzar a trabajar con la relación $\\delta_h=\\Delta_h-\\Delta_{-h}$, primero será importante recordar que $\\Delta_h=e^{h\\frac{d}{d\\xi}\\mid_{\\xi=x}}$.\n",
    "\n",
    "Entonces: $$\\delta_h=\\Delta_h-\\Delta_{-h}=e^{h\\frac{d}{d\\xi}|_{\\xi=x}}-1-e^{-h\\frac{d}{d\\xi}|_{\\xi=x}}+1 $$\n",
    "$$=e^{h\\frac{d}{d\\xi}|_{\\xi=x}}-e^{-h\\frac{d}{d\\xi}|_{\\xi=x}}+(1-1)=e^{h\\frac{d}{d\\xi}|_{\\xi=x}}-e^{-h\\frac{d}{d\\xi}|_{\\xi=x}}$$\n",
    "\n",
    "Expresando en términos de sumas: $$\\sum_{n=1}^{\\infty}\\frac{1}{n!}h^n\\frac{d^n}{d\\xi^n}|_{\\xi=x}-\\sum_{n=1}^{\\infty}\\frac{1}{n!}(-h)^n\\frac{d^n}{d\\xi^n}|_{\\xi=x}$$\n",
    "$$=2(h\\frac{d}{d\\xi}|_{\\xi=x}+\\frac{1}{3!}h^3\\frac{d^3}{d\\xi^3}|_{\\xi=x}+\\frac{1}{5!}h^5\\frac{d^5}{d\\xi^5}|_{\\xi=x}+...)$$\n",
    "$$=2sinh\\left(h\\frac{d}{d\\xi}|_{\\xi=x}\\right)$$\n",
    "\n",
    "Por último, despejemos $\\frac{d}{d\\xi}\\mid_{\\xi=x}$: $$\\delta_h=2sinh\\left(h\\frac{d}{d\\xi}|_{\\xi=x}\\right)$$\n",
    "$\\dashrightarrow$ $$\\frac{\\delta_h}{2}=sinh\\left(h\\frac{d}{d\\xi}|_{\\xi=x}\\right)$$\n",
    "$$\\frac{d}{d\\xi}\\mid_{\\xi=x}=\\frac{1}{h}sinh^{-1}\\left(\\frac{\\delta_h}{2}\\right)$$\n",
    "\n",
    "\n",
    "Finalmente, calculemos la serie de Taylor:\n",
    "$$\\frac{d}{d\\xi}\\mid_{\\xi=x}=\\frac{1}{h}\\left(\\frac{\\delta_h}{2}-\\frac{\\frac{\\delta_h}{2^3}^3}{6}+\\frac{3\\frac{\\delta_h}{2^5}^5}{40}+...\\right)$$"
   ]
  },
  {
   "cell_type": "code",
   "execution_count": null,
   "metadata": {
    "collapsed": true
   },
   "outputs": [],
   "source": []
  }
 ],
 "metadata": {
  "kernelspec": {
   "display_name": "Julia 0.6.0",
   "language": "julia",
   "name": "julia-0.6"
  },
  "language_info": {
   "file_extension": ".jl",
   "mimetype": "application/julia",
   "name": "julia",
   "version": "0.6.0"
  }
 },
 "nbformat": 4,
 "nbformat_minor": 2
}
