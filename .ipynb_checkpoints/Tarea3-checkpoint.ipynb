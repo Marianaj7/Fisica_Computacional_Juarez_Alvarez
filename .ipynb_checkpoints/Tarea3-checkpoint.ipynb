{
 "cells": [
  {
   "cell_type": "code",
   "execution_count": 9,
   "metadata": {
    "collapsed": false
   },
   "outputs": [
    {
     "data": {
      "text/plain": [
       "raices (generic function with 1 method)"
      ]
     },
     "execution_count": 9,
     "metadata": {},
     "output_type": "execute_result"
    }
   ],
   "source": [
    "#Funcion que calcula raices de la ecuacion trascendental\n",
    "\n",
    "function raices(xo,x0N)\n",
    "    x=x0N\n",
    "    i=2\n",
    "    while i<=100 \n",
    "    (i=i+1)\n",
    "    f(x)=(x*tan(x)-sqrt(complex(xo-x^2)))\n",
    "    fp=tan(x)+x*(sec(x))^2-x/sqrt(complex(xo-x^2))\n",
    "    x=x-(f(x)/fp)\n",
    "    end\n",
    "    return x\n",
    "end"
   ]
  },
  {
   "cell_type": "code",
   "execution_count": 10,
   "metadata": {
    "collapsed": false
   },
   "outputs": [
    {
     "data": {
      "text/plain": [
       "1.306440008369511 + 0.0im"
      ]
     },
     "execution_count": 10,
     "metadata": {},
     "output_type": "execute_result"
    }
   ],
   "source": [
    "raices(25,1.5)"
   ]
  },
  {
   "cell_type": "code",
   "execution_count": null,
   "metadata": {
    "collapsed": true
   },
   "outputs": [],
   "source": []
  }
 ],
 "metadata": {
  "kernelspec": {
   "display_name": "Julia 0.6.0",
   "language": "julia",
   "name": "julia-0.6"
  },
  "language_info": {
   "file_extension": ".jl",
   "mimetype": "application/julia",
   "name": "julia",
   "version": "0.6.0"
  }
 },
 "nbformat": 4,
 "nbformat_minor": 2
}
