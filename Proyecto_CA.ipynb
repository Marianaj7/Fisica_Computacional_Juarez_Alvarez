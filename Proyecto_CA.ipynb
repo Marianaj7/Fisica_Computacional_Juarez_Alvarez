{
 "cells": [
  {
   "cell_type": "markdown",
   "metadata": {},
   "source": [
    "# Caminatas cuánticas aleatorias: Caso clásico"
   ]
  },
  {
   "cell_type": "markdown",
   "metadata": {},
   "source": [
    "El modelo básico de las caminatas aleatorias es el movimiento de una partícula (llamado caminante) sobre puntos discretos distribuidos en una línea sin restricciones. El sentido del movimiento del caminante (izquierda o derecha) depende de un\n",
    "sistema bivaluado (una moneda), cuyos valores, para cada paso, dependen de la probabilidad. Si el resultado del voltado es sol(o bien 1, en nuestro caso), entonces el caminante dará un paso a la derecha, mientras que si cae águila (que posee el valor -1) el caminante hará lo contrario, y dará un paso hacia la izqierda. Cabe mencionar que durante todo el problema, el caminante partirá de un punto de inicio, cuyo valor será 0.  Después de muchos volados (digamos, cien), uno puede hacer varias preguntas interesantes, por ejemplo: ¿con qué frecuencia el caminante cae en la posición de inicio?"
   ]
  },
  {
   "cell_type": "code",
   "execution_count": 1,
   "metadata": {},
   "outputs": [
    {
     "name": "stderr",
     "output_type": "stream",
     "text": [
      "\u001b[1m\u001b[34mINFO: Nothing to be done\n",
      "\u001b[0m\u001b[1m\u001b[34mINFO: METADATA is out-of-date — you may not have the latest version of Plots\n",
      "\u001b[0m\u001b[1m\u001b[34mINFO: Use `Pkg.update()` to get the latest versions of your packages\n",
      "\u001b[0m"
     ]
    }
   ],
   "source": [
    "using PyPlot\n",
    "Pkg.add(\"Plots\")\n",
    "using Plots"
   ]
  },
  {
   "cell_type": "code",
   "execution_count": 2,
   "metadata": {},
   "outputs": [
    {
     "data": {
      "text/plain": [
       "posicion_final (generic function with 1 method)"
      ]
     },
     "execution_count": 2,
     "metadata": {},
     "output_type": "execute_result"
    }
   ],
   "source": [
    "#La rutina que se presenta a continuación es una recopilación  de diversas funciones. El input (n) corresponde al número de volados que se desea realizar.\n",
    "function posicion_final(n)\n",
    "    b=rand(-1:2:1,n)     #Usamos la función rand para generar valores aleatorios, éstos sólo podrán ser 1 (sol) y -1 (águila).\n",
    "    p=0\n",
    "    for i in 1:length(b)\n",
    "    p=b[i]+p  #Se implementa un for para, una vez generados todos los valores de los volados, obtener la posición final del caminante, esto es simplemente la suma de todos ellos.\n",
    "end\n",
    "return p  #Finalmente, el valor p corresponde a la posición final del caminante después de n pasos.\n",
    "end"
   ]
  },
  {
   "cell_type": "code",
   "execution_count": 3,
   "metadata": {},
   "outputs": [
    {
     "data": {
      "text/plain": [
       "pf_caminantes (generic function with 1 method)"
      ]
     },
     "execution_count": 3,
     "metadata": {},
     "output_type": "execute_result"
    }
   ],
   "source": [
    "#Sin embargo, a nosotros nos interesa hacer un análisis para  K número de caminantes. Ahora le pedimos al usuario tanto el número de volados \"n\", como el de caminantes \"k\"\n",
    "function pf_caminantes(n,k) \n",
    "    listf=zeros(k)  # Construimos una lista con k entradas de ceros \n",
    "    for i in 1:k  #Este ciclo for se usa para encontrar la posición final de los k caminantes haciendo uso de la función de posicion_final (presentada anteriormente)\n",
    "        d=posicion_final(n)\n",
    "        listf[i]=d  \n",
    "        end \n",
    "    return listf # Se imprime la lista con la posición final de los k caminantes.\n",
    "    end"
   ]
  },
  {
   "cell_type": "code",
   "execution_count": 9,
   "metadata": {},
   "outputs": [
    {
     "data": {
      "text/plain": [
       "100-element Array{Float64,1}:\n",
       "  4.0\n",
       " -2.0\n",
       "  2.0\n",
       "  2.0\n",
       " -2.0\n",
       " -6.0\n",
       " -2.0\n",
       " -2.0\n",
       " -2.0\n",
       "  0.0\n",
       "  0.0\n",
       "  2.0\n",
       "  2.0\n",
       "  ⋮  \n",
       " -2.0\n",
       " -2.0\n",
       "  0.0\n",
       "  4.0\n",
       " -2.0\n",
       " -2.0\n",
       " -2.0\n",
       " -6.0\n",
       "  0.0\n",
       "  2.0\n",
       " -2.0\n",
       "  2.0"
      ]
     },
     "execution_count": 9,
     "metadata": {},
     "output_type": "execute_result"
    }
   ],
   "source": [
    "#Se implementa la función pf_caminantes para 10 volados y cien caminantes, a la cual llamaremos \"CA\"\n",
    "CA=pf_caminantes(10,100)"
   ]
  },
  {
   "cell_type": "code",
   "execution_count": 12,
   "metadata": {},
   "outputs": [
    {
     "data": {
      "image/png": "[encoded data removed]",
      "text/plain": [
       "PyPlot.Figure(PyObject <matplotlib.figure.Figure object at 0x7f611b94a390>)"
      ]
     },
     "metadata": {},
     "output_type": "display_data"
    },
    {
     "name": "stderr",
     "output_type": "stream",
     "text": [
      "/usr/local/lib/python2.7/dist-packages/matplotlib/axes/_axes.py:545: UserWarning: No labelled objects found. Use label='...' kwarg on individual plots.\n",
      "  warnings.warn(\"No labelled objects found. \"\n"
     ]
    }
   ],
   "source": [
    "# Se presenta a continuación un histograma que fue construido a partir de los datos obtenidos en la lista CA.\n",
    "Plots.histogram(CA)\n",
    "title(\"Histograma caminatas aleatorias\")\n",
    "ylabel(\"Frecuencia\"); \n",
    "xlabel(\"Posición\");\n",
    "legend()"
   ]
  },
  {
   "cell_type": "markdown",
   "metadata": {},
   "source": [
    "La representación gráfica será un sustento contundente de los resultados hallados. Sin mayor dificultad es posible apreciar que  la posición final qe ocuparán con mayor frecuencia los cien caminantes, después de lanzar 10 volados, será el punto de partida (el 0). Se observa además, que a medida que la posición se aleja del 0, el caminante caerá con mucha menor frecuencia. Este comportamiento da como resultado una gráfica acampanada y simétrica respecto al punto de partida, también llamada campana de gauss."
   ]
  },
  {
   "cell_type": "markdown",
   "metadata": {},
   "source": [
    "Finalmente, le daremos a conocer al lector la rutina que nos permite calcular la probabilidad de encontrar a nuestro caminante en el lugar k, suponiendo que el movimiento comienza en la posición 0 y qe el caminante se ha movido n veces (esto es que se ha tirado n volados):"
   ]
  },
  {
   "cell_type": "code",
   "execution_count": 13,
   "metadata": {},
   "outputs": [],
   "source": [
    "k=Array{Int64,1}(linspace(-20,20,41)); #Se construye un intervalo en el que se desplazará el caminante."
   ]
  },
  {
   "cell_type": "code",
   "execution_count": 14,
   "metadata": {},
   "outputs": [
    {
     "data": {
      "text/plain": [
       "CClasico (generic function with 1 method)"
      ]
     },
     "execution_count": 14,
     "metadata": {},
     "output_type": "execute_result"
    }
   ],
   "source": [
    "# Se construye la rutina CClasico que nos permite calclar la probabilidad con ayuda de una distribución binomial.\n",
    "function CClasico(n,k)\n",
    "    p=1/2   #p y q corresponder a la probabilidad de obtener águila o sol tras lanzar un volado.\n",
    "    q=1/2\n",
    "    P=Float64[]\n",
    "    for i in 1:length(k)\n",
    "    pr=((factorial(n))*(p^(0.5(n+k[i])))*(q^(0.5(n-k[i]))))/((factorial(0.5(k[i]+n)))*(factorial(0.5(n-k[i]))))\n",
    "        push!(P,pr)\n",
    "    end\n",
    "    return P # Se imprime la lista de la probabilidad de encontrar a nuestro caminante en cada punto del intervalo k.\n",
    "end"
   ]
  },
  {
   "cell_type": "code",
   "execution_count": 15,
   "metadata": {},
   "outputs": [],
   "source": [
    "#Se implementa la función CClasico para 20 volados, a la cual llamaremos \"P\"\n",
    "P=CClasico(20,k);"
   ]
  },
  {
   "cell_type": "code",
   "execution_count": 16,
   "metadata": {},
   "outputs": [
    {
     "data": {
      "image/png": "[encoded data removed]",
      "text/plain": [
       "PyPlot.Figure(PyObject <matplotlib.figure.Figure object at 0x7f6116562d10>)"
      ]
     },
     "metadata": {},
     "output_type": "display_data"
    }
   ],
   "source": [
    "plot(k,P)\n",
    "title(\"Distribución de probabilidad\")\n",
    "ylabel(\"Probabilidad\"); \n",
    "xlabel(\"Posición\");\n",
    "legend()"
   ]
  },
  {
   "cell_type": "code",
   "execution_count": null,
   "metadata": {},
   "outputs": [],
   "source": []
  }
 ],
 "metadata": {
  "kernelspec": {
   "display_name": "Julia 0.5.2",
   "language": "julia",
   "name": "julia-0.5"
  },
  "language_info": {
   "file_extension": ".jl",
   "mimetype": "application/julia",
   "name": "julia",
   "version": "0.5.2"
  }
 },
 "nbformat": 4,
 "nbformat_minor": 2
}
