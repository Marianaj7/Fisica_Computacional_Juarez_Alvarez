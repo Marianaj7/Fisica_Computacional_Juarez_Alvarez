{
 "cells": [
  {
   "cell_type": "code",
   "execution_count": 137,
   "metadata": {
    "collapsed": false
   },
   "outputs": [
    {
     "name": "stderr",
     "output_type": "stream",
     "text": [
      "\u001b[1m\u001b[36mINFO: \u001b[39m\u001b[22m\u001b[36mPackage SymPy is already installed\n",
      "\u001b[39m\u001b[1m\u001b[36mINFO: \u001b[39m\u001b[22m\u001b[36mMETADATA is out-of-date — you may not have the latest version of SymPy\n",
      "\u001b[39m\u001b[1m\u001b[36mINFO: \u001b[39m\u001b[22m\u001b[36mUse `Pkg.update()` to get the latest versions of your packages\n",
      "\u001b[39m\u001b[1m\u001b[36mINFO: \u001b[39m\u001b[22m\u001b[36mPackage PyPlot is already installed\n",
      "\u001b[39m\u001b[1m\u001b[36mINFO: \u001b[39m\u001b[22m\u001b[36mMETADATA is out-of-date — you may not have the latest version of PyPlot\n",
      "\u001b[39m\u001b[1m\u001b[36mINFO: \u001b[39m\u001b[22m\u001b[36mUse `Pkg.update()` to get the latest versions of your packages\n",
      "\u001b[39m"
     ]
    }
   ],
   "source": [
    "#Ejercicio 2 Función coseno\n",
    "#Como primer paso instalamos todas las librerías a utilizar tanto en éste ejercicio, como en el ejercicio 4.\n",
    "Pkg.add(\"SymPy\")\n",
    "Pkg.add(\"PyPlot\")\n",
    "using PyPlot\n",
    "plt = PyPlot;"
   ]
  },
  {
   "cell_type": "code",
   "execution_count": 84,
   "metadata": {
    "collapsed": false
   },
   "outputs": [
    {
     "data": {
      "text/plain": [
       "g (generic function with 1 method)"
      ]
     },
     "execution_count": 84,
     "metadata": {},
     "output_type": "execute_result"
    }
   ],
   "source": [
    "#Se define la función a derivar.\n",
    "function g(x)\n",
    "    return cos(x)\n",
    "end"
   ]
  },
  {
   "cell_type": "code",
   "execution_count": 85,
   "metadata": {
    "collapsed": false,
    "scrolled": true
   },
   "outputs": [
    {
     "data": {
      "text/plain": [
       "0.0:0.1111111111111111:1.0"
      ]
     },
     "execution_count": 85,
     "metadata": {},
     "output_type": "execute_result"
    }
   ],
   "source": [
    "#b corresponde al intervalo en donde está definido x.\n",
    "b=linspace(0,1,10)"
   ]
  },
  {
   "cell_type": "code",
   "execution_count": 86,
   "metadata": {
    "collapsed": false
   },
   "outputs": [
    {
     "data": {
      "text/plain": [
       "10-element Array{Float64,1}:\n",
       " 0.0     \n",
       " 0.111111\n",
       " 0.222222\n",
       " 0.333333\n",
       " 0.444444\n",
       " 0.555556\n",
       " 0.666667\n",
       " 0.777778\n",
       " 0.888889\n",
       " 1.0     "
      ]
     },
     "execution_count": 86,
     "metadata": {},
     "output_type": "execute_result"
    }
   ],
   "source": [
    "collect(b)"
   ]
  },
  {
   "cell_type": "code",
   "execution_count": 87,
   "metadata": {
    "collapsed": false
   },
   "outputs": [
    {
     "data": {
      "text/plain": [
       "0.2222222222222222"
      ]
     },
     "execution_count": 87,
     "metadata": {},
     "output_type": "execute_result"
    }
   ],
   "source": [
    "b[3]"
   ]
  },
  {
   "cell_type": "code",
   "execution_count": 88,
   "metadata": {
    "collapsed": false
   },
   "outputs": [
    {
     "data": {
      "text/plain": [
       "derivada_cos (generic function with 1 method)"
      ]
     },
     "execution_count": 88,
     "metadata": {},
     "output_type": "execute_result"
    }
   ],
   "source": [
    "#El siguiente programa calcula la derivada de la función coseno, éste recibe la función, i ( cuyo valor debe estar dentro de la longitud del intervalo b) y h.\n",
    "function derivada_cos(g,i,h)\n",
    "    x=b[i]  #x es el valor b[i] del intervalo.\n",
    "    g=(g(x+h)-g(x))/h\n",
    "        return g\n",
    "    end"
   ]
  },
  {
   "cell_type": "code",
   "execution_count": 89,
   "metadata": {
    "collapsed": false
   },
   "outputs": [
    {
     "data": {
      "text/plain": [
       "-0.2252710799637625"
      ]
     },
     "execution_count": 89,
     "metadata": {},
     "output_type": "execute_result"
    }
   ],
   "source": [
    "derivada_cos(g,3,0.01)"
   ]
  },
  {
   "cell_type": "code",
   "execution_count": 90,
   "metadata": {
    "collapsed": false
   },
   "outputs": [
    {
     "data": {
      "text/plain": [
       "-0.22039774345612226"
      ]
     },
     "execution_count": 90,
     "metadata": {},
     "output_type": "execute_result"
    }
   ],
   "source": [
    "#Se compara el resultado anterior, con el que indica el valor exacto. Nótese que ambos son muy cercanos.\n",
    "derivada_exacta=-sin(0.2222222222222222)"
   ]
  },
  {
   "cell_type": "code",
   "execution_count": 141,
   "metadata": {
    "collapsed": false
   },
   "outputs": [
    {
     "data": {
      "image/png": "[encoded data removed]",
      "text/plain": [
       "PyPlot.Figure(PyObject <matplotlib.figure.Figure object at 0x7fe02ead5f90>)"
      ]
     },
     "metadata": {},
     "output_type": "display_data"
    }
   ],
   "source": [
    "#Finalmente, se realiza el código para graficar el comportamiento de la derivada.\n",
    "x = [0.0,0.1,0.01,0.001,0.0001,0.00001,0.000001]  #x corresponden al conjunto de valores que tomará h.\n",
    "y=[]  #Definimos una lista vacía para poder ahí guardar los valores.\n",
    "for h in x  #Se realiza un ciclo for para determinar los valores 1/h.\n",
    "    push!(y,1/h)\n",
    "end\n",
    "F=[]\n",
    "for i in x  #Nuevamente se realiza un ciclo for para los valores de la derivada numérica.\n",
    "   push!(F,derivada_cos(g,3,i))\n",
    "end\n",
    "plt.scatter(log.(y),F) #Importante: se grafica en escala logarítmica para observar a detalle el comportamiento de la derivada, de no ser así, los puntos en la representación son confusos.\n",
    "ylabel(\"Derivada numérica\"); #Se asigna el nombre al eje \"x\" y al eje \"y\".\n",
    "xlabel(\"1/h\");\n"
   ]
  },
  {
   "cell_type": "code",
   "execution_count": null,
   "metadata": {
    "collapsed": true
   },
   "outputs": [],
   "source": [
    "#De la representación gráfica mostrada anteriormente se muestra que mientras h sea más pequeño, el valor de 1/h es grande, por lo que mientras h sea más pequeña la aproximación a la derivada numérica es mejor."
   ]
  },
  {
   "cell_type": "code",
   "execution_count": 111,
   "metadata": {
    "collapsed": false
   },
   "outputs": [
    {
     "data": {
      "text/plain": [
       "8-element Array{Float64,1}:\n",
       " 0.0   \n",
       " 0.1   \n",
       " 0.01  \n",
       " 0.001 \n",
       " 0.0001\n",
       " 1.0e-5\n",
       " 1.0e-6\n",
       " 1.0e-7"
      ]
     },
     "execution_count": 111,
     "metadata": {},
     "output_type": "execute_result"
    }
   ],
   "source": [
    "#Nuevamente se define el conjunto de valores para h, ahora para graficar el error relativo.\n",
    "h=[0.0,0.1,0.01,0.001,0.0001,0.00001,0.000001,0.0000001]"
   ]
  },
  {
   "cell_type": "code",
   "execution_count": 112,
   "metadata": {
    "collapsed": false
   },
   "outputs": [
    {
     "data": {
      "text/plain": [
       "error (generic function with 1 method)"
      ]
     },
     "execution_count": 112,
     "metadata": {},
     "output_type": "execute_result"
    }
   ],
   "source": [
    "#Se establece la función del error relativo.\n",
    "function error(g,x,h)\n",
    "    ε=abs((((g(x+h)-g(x))/h)-derivada_exacta)/derivada_exacta)\n",
    "    return ε\n",
    "end"
   ]
  },
  {
   "cell_type": "code",
   "execution_count": 113,
   "metadata": {
    "collapsed": false
   },
   "outputs": [
    {
     "data": {
      "text/plain": [
       "8-element Array{Float64,1}:\n",
       " NaN          \n",
       "   0.219434   \n",
       "   0.0221116  \n",
       "   0.00221267 \n",
       "   0.000221282\n",
       "   2.21284e-5 \n",
       "   2.21261e-6 \n",
       "   2.21339e-7 "
      ]
     },
     "execution_count": 113,
     "metadata": {},
     "output_type": "execute_result"
    }
   ],
   "source": [
    "#ε corresponde a la lista del error relativo conforme varía h.\n",
    "ε=error.(g,0.222222222222,h)"
   ]
  },
  {
   "cell_type": "code",
   "execution_count": 114,
   "metadata": {
    "collapsed": false
   },
   "outputs": [
    {
     "data": {
      "image/png": "[encoded data removed]",
      "text/plain": [
       "PyPlot.Figure(PyObject <matplotlib.figure.Figure object at 0x7fe02f26de50>)"
      ]
     },
     "metadata": {},
     "output_type": "display_data"
    }
   ],
   "source": [
    "#Se construye la representación gráfica del error relativo vs h.\n",
    "plot(h,ε)\n",
    "ylabel(\"Error relativo\");\n",
    "xlabel(\"h\");"
   ]
  },
  {
   "cell_type": "code",
   "execution_count": null,
   "metadata": {
    "collapsed": true
   },
   "outputs": [],
   "source": [
    "#De esta representación gráfica se aprecia que conforme h aumenta el error relativo aumenta en una relación lineal."
   ]
  },
  {
   "cell_type": "markdown",
   "metadata": {},
   "source": [
    "# Ejercicio 3\n",
    "\n",
    "Este ejercicio nos presenta la siguiente interrogante: Teniendo en mente la serie de Taylor para $f(x+h)$ ¿existe alguna forma de mejorar el cálculo de la derivada numérica?, y nos proporcionan el siguiente tip:  ¿Qué pasa con los términos pares de la serie cuando la calculamos para $f(x-h)$?, ¿Como podemos despejar la derivada exacta de $f$ combinando ambas series?.\n",
    "\n",
    "Entonces comencemos por desarrollar la expresión $f(x+h)$ en serie de Taylor: $$f(x+h)=f(x)+\n",
    "h\\frac{d}{d\\xi}|_{\\xi=x}f(\\xi)+\\frac{h^2}{2}\\frac{d^2}{d\\xi^2}|_{\\xi=x}f(\\xi)+\\frac{h^3}{6}\\frac{d^3}{d\\xi^3}|_{\\xi=x}f(\\xi)+\\vartheta(h^4)$$\n",
    "\n",
    "Mientras que la expansión para $f(x-h)$ es:$$f(x-h)=f(x)-\n",
    "h\\frac{d}{d\\xi}|_{\\xi=x}f(\\xi)+\\frac{h^2}{2}\\frac{d^2}{d\\xi^2}|_{\\xi=x}f(\\xi)-\\frac{h^3}{6}\\frac{d^3}{d\\xi^3}|_{\\xi=x}f(\\xi)+\\vartheta(h^4)$$\n",
    "\n",
    "Restando $f(x-h)$ a $f(x+h)$:\n",
    "\n",
    "$$f(x+h)-f(x-h)=2h\\frac{d}{d\\xi}|_{\\xi=x}f(\\xi)+\\frac{h^3}{3}\\frac{d^3}{d\\xi^3}|_{\\xi=x}f(\\xi)+\\vartheta(h^5)$$\n",
    "\n",
    "O bien: $$f(x+h)-f(x-h)=2h\\frac{d}{d\\xi}|_{\\xi=x}f(\\xi)+\\vartheta(h^2)$$\n",
    "\n",
    "Ahora será necesario usar algunas propiedades:\n",
    "\n",
    "\n",
    "1)$f(x+h)-f(x-h)=\\vartriangle f(x,h)$\n",
    "\n",
    "2)$f'(x)=\\frac{d}{d\\xi}|_{\\xi=x}$\n",
    "\n",
    "Entonces, tenemos que:$$\\vartriangle f(x,h)+\\vartheta(h^2)=2hf'(x)$$\n",
    "$$f'(x)+\\vartheta(h^2)=\\frac{\\vartriangle f(x,h)}{2h}$$\n",
    "\n",
    "Por lo tanto:$$\\vartheta(h^2)=\\frac{\\vartriangle f(x,h)}{2h}-f'(x)$$\n",
    "\n",
    "De este último resultado es posible concluir que la derivada numérica a primer orden tiene un error del orden 2 con respecto al valor de h. En general, el valor de la derivada numérica puede ser más exacto tomando h's muy pequeños."
   ]
  },
  {
   "cell_type": "code",
   "execution_count": 121,
   "metadata": {
    "collapsed": false
   },
   "outputs": [
    {
     "data": {
      "text/plain": [
       "derivada_simetrica (generic function with 1 method)"
      ]
     },
     "execution_count": 121,
     "metadata": {},
     "output_type": "execute_result"
    }
   ],
   "source": [
    "#Ejercicio 4 derivada simétrica\n",
    "#Se define la función derivada simétrica, los inputs son la función (definida en el ejercicio 2), x el valor en el que se desea evaluar ésta última y h.\n",
    "function derivada_simetrica(g,x,h)\n",
    "    dg=(g(x+h)-g(x-h))/2h\n",
    "    return dg\n",
    "end"
   ]
  },
  {
   "cell_type": "code",
   "execution_count": 122,
   "metadata": {
    "collapsed": false
   },
   "outputs": [
    {
     "data": {
      "text/plain": [
       "0.001:0.0006428571428571428:0.01"
      ]
     },
     "execution_count": 122,
     "metadata": {},
     "output_type": "execute_result"
    }
   ],
   "source": [
    "#h se establece ahora como un intervalo.\n",
    "h=linspace(0.001,0.01,15)"
   ]
  },
  {
   "cell_type": "code",
   "execution_count": 123,
   "metadata": {
    "collapsed": false,
    "scrolled": true
   },
   "outputs": [
    {
     "data": {
      "text/plain": [
       "15-element Array{Float64,1}:\n",
       " 0.001     \n",
       " 0.00164286\n",
       " 0.00228571\n",
       " 0.00292857\n",
       " 0.00357143\n",
       " 0.00421429\n",
       " 0.00485714\n",
       " 0.0055    \n",
       " 0.00614286\n",
       " 0.00678571\n",
       " 0.00742857\n",
       " 0.00807143\n",
       " 0.00871429\n",
       " 0.00935714\n",
       " 0.01      "
      ]
     },
     "execution_count": 123,
     "metadata": {},
     "output_type": "execute_result"
    }
   ],
   "source": [
    "collect(h)"
   ]
  },
  {
   "cell_type": "code",
   "execution_count": 124,
   "metadata": {
    "collapsed": false
   },
   "outputs": [
    {
     "data": {
      "text/plain": [
       "15-element Array{Float64,1}:\n",
       " -0.220398\n",
       " -0.220398\n",
       " -0.220398\n",
       " -0.220397\n",
       " -0.220397\n",
       " -0.220397\n",
       " -0.220397\n",
       " -0.220397\n",
       " -0.220396\n",
       " -0.220396\n",
       " -0.220396\n",
       " -0.220395\n",
       " -0.220395\n",
       " -0.220395\n",
       " -0.220394"
      ]
     },
     "execution_count": 124,
     "metadata": {},
     "output_type": "execute_result"
    }
   ],
   "source": [
    "#Se imprimen todos los valores de la derivada simétrica conforme h varía en el intervalo.\n",
    "listDS=derivada_simetrica.(g,0.2222222222222222,h)"
   ]
  },
  {
   "cell_type": "code",
   "execution_count": 125,
   "metadata": {
    "collapsed": false
   },
   "outputs": [
    {
     "data": {
      "text/plain": [
       "derivada_exacta4 (generic function with 1 method)"
      ]
     },
     "execution_count": 125,
     "metadata": {},
     "output_type": "execute_result"
    }
   ],
   "source": [
    "#Se define la función de la derivda exacta en cualquier punto x.\n",
    "function derivada_exacta4(x)\n",
    "    return dg=-sin(x)\n",
    "end"
   ]
  },
  {
   "cell_type": "code",
   "execution_count": 126,
   "metadata": {
    "collapsed": false
   },
   "outputs": [
    {
     "data": {
      "text/plain": [
       "-0.22039774345612226"
      ]
     },
     "execution_count": 126,
     "metadata": {},
     "output_type": "execute_result"
    }
   ],
   "source": [
    "derivada_exacta4(0.2222222222222222)"
   ]
  },
  {
   "cell_type": "code",
   "execution_count": 127,
   "metadata": {
    "collapsed": false
   },
   "outputs": [
    {
     "data": {
      "text/plain": [
       "f (generic function with 1 method)"
      ]
     },
     "execution_count": 127,
     "metadata": {},
     "output_type": "execute_result"
    }
   ],
   "source": [
    "f(x)=1/x"
   ]
  },
  {
   "cell_type": "code",
   "execution_count": 128,
   "metadata": {
    "collapsed": false,
    "scrolled": true
   },
   "outputs": [
    {
     "data": {
      "text/plain": [
       "15-element Array{Float64,1}:\n",
       " 1000.0  \n",
       "  608.696\n",
       "  437.5  \n",
       "  341.463\n",
       "  280.0  \n",
       "  237.288\n",
       "  205.882\n",
       "  181.818\n",
       "  162.791\n",
       "  147.368\n",
       "  134.615\n",
       "  123.894\n",
       "  114.754\n",
       "  106.87 \n",
       "  100.0  "
      ]
     },
     "execution_count": 128,
     "metadata": {},
     "output_type": "execute_result"
    }
   ],
   "source": [
    "#listf corresponde a la función 1/x evaluada en el intervalo h.\n",
    "listf=f.(h)"
   ]
  },
  {
   "cell_type": "code",
   "execution_count": 129,
   "metadata": {
    "collapsed": false
   },
   "outputs": [
    {
     "data": {
      "text/plain": [
       "15-element Array{Float64,1}:\n",
       " -0.220398\n",
       " -0.220398\n",
       " -0.220398\n",
       " -0.220398\n",
       " -0.220398\n",
       " -0.220398\n",
       " -0.220398\n",
       " -0.220398\n",
       " -0.220398\n",
       " -0.220398\n",
       " -0.220398\n",
       " -0.220398\n",
       " -0.220398\n",
       " -0.220398\n",
       " -0.220398"
      ]
     },
     "execution_count": 129,
     "metadata": {},
     "output_type": "execute_result"
    }
   ],
   "source": [
    "#Y es una lista del valor exacto de la derivada en 0.22222222, esto se realiza para apreciar la convergencia en la representación gráfica que se presenta a continuación.\n",
    "Y=ones(length(listf)).*-sin(0.2222222222222222)"
   ]
  },
  {
   "cell_type": "code",
   "execution_count": 139,
   "metadata": {
    "collapsed": false
   },
   "outputs": [
    {
     "data": {
      "image/png": "[encoded data removed]",
      "text/plain": [
       "PyPlot.Figure(PyObject <matplotlib.figure.Figure object at 0x7fe02ea13190>)"
      ]
     },
     "metadata": {},
     "output_type": "display_data"
    }
   ],
   "source": [
    "#Se grafica el comportamiento de la derivada simétrica, la recta naranja corresponde al valor exacto de la derivada, gracias a ésta podremos observar la convergencia a dicho valor.\n",
    "plot(listf,listDS)\n",
    "plot(listf,Y)\n",
    "ylabel(\"Derivada simétrica\"); #Se asigna el nombre al eje \"x\" y al eje \"y\".\n",
    "xlabel(\"1/h\");"
   ]
  },
  {
   "cell_type": "code",
   "execution_count": null,
   "metadata": {
    "collapsed": true
   },
   "outputs": [],
   "source": [
    "#Resulta claro que la derivada simétrica tiene un comportamiento representado por una parábola, esto es debido a que conforme h es más pequela y por lo tanto 1/h aumenta, el valor de la derivada simétrica decae velozmente."
   ]
  },
  {
   "cell_type": "code",
   "execution_count": 131,
   "metadata": {
    "collapsed": false
   },
   "outputs": [
    {
     "data": {
      "text/plain": [
       "error_relativo (generic function with 1 method)"
      ]
     },
     "execution_count": 131,
     "metadata": {},
     "output_type": "execute_result"
    }
   ],
   "source": [
    "function error_relativo(g,x,h)\n",
    "    ε=abs((((g(x+h)-g(x-h))/2h)-derivada_exacta4(x))/derivada_exacta4(x))\n",
    "    return ε\n",
    "end"
   ]
  },
  {
   "cell_type": "code",
   "execution_count": 133,
   "metadata": {
    "collapsed": false
   },
   "outputs": [
    {
     "data": {
      "text/plain": [
       "15-element Array{Float64,1}:\n",
       " 1.66667e-7\n",
       " 4.4983e-7 \n",
       " 8.70748e-7\n",
       " 1.42942e-6\n",
       " 2.12585e-6\n",
       " 2.96003e-6\n",
       " 3.93197e-6\n",
       " 5.04166e-6\n",
       " 6.2891e-6 \n",
       " 7.6743e-6 \n",
       " 9.19725e-6\n",
       " 1.0858e-5 \n",
       " 1.26564e-5\n",
       " 1.45926e-5\n",
       " 1.66666e-5"
      ]
     },
     "execution_count": 133,
     "metadata": {},
     "output_type": "execute_result"
    }
   ],
   "source": [
    "ε=error_relativo.(g,0.2222222222222222,h)"
   ]
  },
  {
   "cell_type": "code",
   "execution_count": 140,
   "metadata": {
    "collapsed": false
   },
   "outputs": [
    {
     "data": {
      "image/png": "[encoded data removed]",
      "text/plain": [
       "PyPlot.Figure(PyObject <matplotlib.figure.Figure object at 0x7fe02e946fd0>)"
      ]
     },
     "metadata": {},
     "output_type": "display_data"
    }
   ],
   "source": [
    "#Se construye la representación gráfica del error relativo vs h.\n",
    "plot(h,ε)\n",
    "ylabel(\"Error relativo\");\n",
    "xlabel(\"h\");"
   ]
  },
  {
   "cell_type": "code",
   "execution_count": null,
   "metadata": {
    "collapsed": true
   },
   "outputs": [],
   "source": [
    "#De esta representación gráfica se aprecia que conforme h aumenta el error relativo aumenta en una relación no lineal."
   ]
  },
  {
   "cell_type": "markdown",
   "metadata": {},
   "source": [
    "# Ejercicio 5\n",
    "\n",
    "Primero mostremos que $\\vartriangle_h:f\\rightarrow f(x+h)-f(x)=\\vartriangle f(x,h)$ es un operador lineal, es decir: \n",
    "\n",
    "$$\\vartriangle_h(\\alpha_1\\phi_1(x)+\\alpha_2\\phi_2(x))=\\vartriangle\\alpha_1\\phi_1(x,h)+\\vartriangle\\alpha_2\\phi_2(x,h)$$\n",
    "\n",
    "Entonces: $$\\vartriangle_h(\\alpha_1\\phi_1(x)+\\alpha_2\\phi_2(x))=\\vartriangle_h\\alpha_1\\phi_1(x)+\\vartriangle_h\\alpha_2\\phi_2(x)$$\n",
    "\n",
    "Como $\\vartriangle f(x)=\\vartriangle f(x,h)$ y tomando en cuenta la relación entre ambas, se tiene que:\n",
    "\n",
    "$$=\\vartriangle_h\\alpha_1\\phi_1(x+h)+\\vartriangle_h\\alpha_2\\phi_2(x+h)- \\alpha_1\\phi_1(x)-\\alpha_2\\phi_2(x)$$\n",
    "$$=\\vartriangle\\alpha_1\\phi_1(x,h)+\\vartriangle\\alpha_2\\phi_2(x,h)$$\n",
    "\n",
    "$\\therefore    \\vartriangle_h:f\\rightarrow f(x+h)-f(x)=\\vartriangle f(x,h)$ es un operador lineal.\n",
    "\n",
    "De esta manera, si: $$\\vartriangle_hf(x)=f(x+h)-f(x)=\\left[\\sum_{n=1}^{\\infty}\\frac{1}{n!}h^n\\frac{d^n}{d\\xi^n}|_{\\xi=x}\\right] f(x)$$\n",
    "\n",
    "Es posible factorizar la función $f(x)$ del operador $\\vartriangle_h$:\n",
    "$$\\vartriangle_h=\\left[\\sum_{n=1}^{\\infty}\\frac{1}{n!}h^n\\frac{d^n}{d\\xi^n}|_{\\xi=x}\\right]$$\n"
   ]
  },
  {
   "cell_type": "markdown",
   "metadata": {
    "collapsed": true
   },
   "source": [
    "# Ejercicio 6\n",
    "\n",
    "En este ejercicio tenemos por objetivo identificar cúal es la función evaluada en $\\Delta_h\\frac{d}{d\\xi}\\mid_{\\xi=x}$. Esto es, la función $\\phi$ que cumple la relación: $$\\Delta_h=\\phi(\\frac{d}{d\\xi}\\mid_{\\xi=x})$$\n",
    "\n",
    "Sabemos que: $$\\vartriangle_h=\\left[\\sum_{n=1}^{\\infty}\\frac{1}{n!}h^n\\frac{d^n}{d\\xi^n}|_{\\xi=x}\\right]$$\n",
    "\n",
    "Por lo que: $$\\phi(\\frac{d}{d\\xi}\\mid_{\\xi=x})=\\left[\\sum_{n=1}^{\\infty}\\frac{1}{n!}h^n\\frac{d^n}{d\\xi^n}|_{\\xi=x}\\right]$$\n",
    "\n",
    "Entonces, operando con la expresión $\\sum_{n=1}^{\\infty}\\frac{1}{n!}h^n\\frac{d^n}{d\\xi^n}|_{\\xi=x}$, tenemos:\n",
    "\n",
    "$$\\sum_{n=1}^{\\infty}\\frac{1}{n!}h^n\\frac{d^n}{d\\xi^n}|_{\\xi=x}=\\sum_{n=1}^{\\infty}\\frac{1}{n!}h^n\\frac{d^n}{d\\xi^n}|_{\\xi=x}+0$$\n",
    "$$=\\sum_{n=1}^{\\infty}\\frac{1}{n!}h^n\\frac{d^n}{d\\xi^n}|_{\\xi=x}+(1-1)=\\sum_{n=0}^{\\infty}\\frac{1}{n!}h^n\\frac{d^n}{d\\xi^n}|_{\\xi=x}-1$$\n",
    "$$=e^{h\\frac{d}{d\\xi}|{\\xi=x}}-1$$\n",
    "\n",
    "Por lo tanto, se ha demostrado que: $$\\phi(x)=e^{h\\frac{d}{d\\xi}|{\\xi=x}}-1$$"
   ]
  },
  {
   "cell_type": "code",
   "execution_count": null,
   "metadata": {
    "collapsed": true
   },
   "outputs": [],
   "source": []
  }
 ],
 "metadata": {
  "kernelspec": {
   "display_name": "Julia 0.6.0",
   "language": "julia",
   "name": "julia-0.6"
  },
  "language_info": {
   "file_extension": ".jl",
   "mimetype": "application/julia",
   "name": "julia",
   "version": "0.6.0"
  }
 },
 "nbformat": 4,
 "nbformat_minor": 2
}
