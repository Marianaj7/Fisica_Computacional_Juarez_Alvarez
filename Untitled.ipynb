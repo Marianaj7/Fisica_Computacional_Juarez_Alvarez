{
 "cells": [
  {
   "cell_type": "markdown",
   "metadata": {},
   "source": [
    "# Ejercicio 2 (Puntos extra): \n",
    "Resolver ecuación de Poisson unidimensional con $\\rho (x)=\\cos(x)$, en el dominio $[0,2 \\pi]$, utilizando una malla con 12 puntos. Aquí nuevamente hay 10 incognitas, sin embargo note que para el método es mas conveniente definir $\\vec f$ incluyendo las condiciones de frontera."
   ]
  },
  {
   "cell_type": "code",
   "execution_count": 15,
   "metadata": {},
   "outputs": [],
   "source": [
    "using SymPy\n",
    "using PyPlot"
   ]
  },
  {
   "cell_type": "code",
   "execution_count": 19,
   "metadata": {},
   "outputs": [
    {
     "data": {
      "text/plain": [
       "jacobiano (generic function with 1 method)"
      ]
     },
     "execution_count": 19,
     "metadata": {},
     "output_type": "execute_result"
    }
   ],
   "source": [
    "function jacobiano(f,var,n,m)\n",
    "J=zeros(n,m)\n",
    "    \n",
    "    for i in 1:n\n",
    "        for j in 1:m\n",
    "        J[i,j]=diff(f[i],var[j])\n",
    "        end\n",
    "    end\n",
    "    J\n",
    "end"
   ]
  },
  {
   "cell_type": "code",
   "execution_count": 5,
   "metadata": {},
   "outputs": [
    {
     "data": {
      "text/plain": [
       "(f_1,f_2,f_3,f_4,f_5,f_6,f_7,f_8,f_9,f_10,f_11,f_12)"
      ]
     },
     "execution_count": 5,
     "metadata": {},
     "output_type": "execute_result"
    }
   ],
   "source": [
    "f_1,f_2,f_3,f_4,f_5,f_6,f_7,f_8,f_9,f_10=Sym(\"f_1,f_2,f_3,f_4,f_5,f_6,f_7,f_8,f_9,f_10,f_11,f_12\")"
   ]
  },
  {
   "cell_type": "code",
   "execution_count": 6,
   "metadata": {},
   "outputs": [
    {
     "data": {
      "text/latex": [
       "\\begin{bmatrix}0&f_{1}&f_{2}&f_{3}&f_{4}&f_{5}&f_{6}&f_{7}&f_{8}&f_{9}&f_{10}&0\\end{bmatrix}"
      ],
      "text/plain": [
       "1×12 Array{SymPy.Sym,2}:\n",
       " 0  f_1  f_2  f_3  f_4  f_5  f_6  f_7  f_8  f_9  f_10  0"
      ]
     },
     "execution_count": 6,
     "metadata": {},
     "output_type": "execute_result"
    }
   ],
   "source": [
    "f=[0 f_1 f_2 f_3 f_4 f_5 f_6 f_7 f_8 f_9 f_10 0]"
   ]
  },
  {
   "cell_type": "markdown",
   "metadata": {},
   "source": [
    "Para una malla de 12 puntos, tenemos que $h_x=\\frac{2\\pi}{11}$"
   ]
  },
  {
   "cell_type": "code",
   "execution_count": 23,
   "metadata": {},
   "outputs": [],
   "source": [
    "h=2*pi/11\n",
    "malla=linspace(0,2pi,12)\n",
    "ptosm=[]\n",
    "A=[]\n",
    "for i in 2:11\n",
    "    r=f[i+1]+f[i-1]-2f[i]-h*cos(malla[i])\n",
    "    push!(ptosm,r)\n",
    "end\n",
    "\n",
    "for i in 1:10\n",
    "    bP=ptosm[i](f_1=>0,f_2=>0,f_3=>0,f_4=>0,f_5=>0,f_6=>0,f_7=>0,f_8=>0,f_9=>0,f_10=>0)\n",
    "    push!(A,bP)\n",
    "end"
   ]
  },
  {
   "cell_type": "code",
   "execution_count": 21,
   "metadata": {},
   "outputs": [
    {
     "data": {
      "text/plain": [
       "10-element Array{Any,1}:\n",
       "       -2*f_1 + f_2 - 0.480522894281618\n",
       "  f_1 - 2*f_2 + f_3 - 0.237284500552297\n",
       "  f_2 - 2*f_3 + f_4 + 0.081290045530213\n",
       "  f_3 - 2*f_4 + f_5 + 0.374055576524896\n",
       "  f_4 - 2*f_5 + f_6 + 0.548061104923333\n",
       "  f_5 - 2*f_6 + f_7 + 0.548061104923333\n",
       "  f_6 - 2*f_7 + f_8 + 0.374055576524896\n",
       " f_7 - 2*f_8 + f_9 + 0.0812900455302132\n",
       " f_10 + f_8 - 2*f_9 - 0.237284500552297\n",
       "      -2*f_10 + f_9 - 0.480522894281618"
      ]
     },
     "execution_count": 21,
     "metadata": {},
     "output_type": "execute_result"
    }
   ],
   "source": [
    "ptosm"
   ]
  },
  {
   "cell_type": "code",
   "execution_count": 22,
   "metadata": {},
   "outputs": [
    {
     "data": {
      "text/plain": [
       "10×10 Array{Float64,2}:\n",
       " -2.0   1.0   0.0   0.0   0.0   0.0   0.0   0.0   0.0   0.0\n",
       "  1.0  -2.0   1.0   0.0   0.0   0.0   0.0   0.0   0.0   0.0\n",
       "  0.0   1.0  -2.0   1.0   0.0   0.0   0.0   0.0   0.0   0.0\n",
       "  0.0   0.0   1.0  -2.0   1.0   0.0   0.0   0.0   0.0   0.0\n",
       "  0.0   0.0   0.0   1.0  -2.0   1.0   0.0   0.0   0.0   0.0\n",
       "  0.0   0.0   0.0   0.0   1.0  -2.0   1.0   0.0   0.0   0.0\n",
       "  0.0   0.0   0.0   0.0   0.0   1.0  -2.0   1.0   0.0   0.0\n",
       "  0.0   0.0   0.0   0.0   0.0   0.0   1.0  -2.0   1.0   0.0\n",
       "  0.0   0.0   0.0   0.0   0.0   0.0   0.0   1.0  -2.0   1.0\n",
       "  0.0   0.0   0.0   0.0   0.0   0.0   0.0   0.0   1.0  -2.0"
      ]
     },
     "execution_count": 22,
     "metadata": {},
     "output_type": "execute_result"
    }
   ],
   "source": [
    "P=[f_1,f_2,f_3,f_4,f_5,f_6,f_7,f_8,f_9,f_10]\n",
    "matriz=Jacobiano(ptosm,P,10,10)"
   ]
  },
  {
   "cell_type": "code",
   "execution_count": 24,
   "metadata": {},
   "outputs": [
    {
     "data": {
      "text/plain": [
       "10-element Array{Any,1}:\n",
       " -0.480522894281618\n",
       " -0.237284500552297\n",
       " 0.0812900455302130\n",
       "  0.374055576524896\n",
       "  0.548061104923333\n",
       "  0.548061104923333\n",
       "  0.374055576524896\n",
       " 0.0812900455302132\n",
       " -0.237284500552297\n",
       " -0.480522894281618"
      ]
     },
     "execution_count": 24,
     "metadata": {},
     "output_type": "execute_result"
    }
   ],
   "source": [
    "A"
   ]
  },
  {
   "cell_type": "code",
   "execution_count": 25,
   "metadata": {
    "scrolled": true
   },
   "outputs": [
    {
     "data": {
      "text/plain": [
       "10×10 Array{Float64,2}:\n",
       " -0.909091   -0.818182  -0.727273  …  -0.272727  -0.181818  -0.0909091\n",
       " -0.818182   -1.63636   -1.45455      -0.545455  -0.363636  -0.181818 \n",
       " -0.727273   -1.45455   -2.18182      -0.818182  -0.545455  -0.272727 \n",
       " -0.636364   -1.27273   -1.90909      -1.09091   -0.727273  -0.363636 \n",
       " -0.545455   -1.09091   -1.63636      -1.36364   -0.909091  -0.454545 \n",
       " -0.454545   -0.909091  -1.36364   …  -1.63636   -1.09091   -0.545455 \n",
       " -0.363636   -0.727273  -1.09091      -1.90909   -1.27273   -0.636364 \n",
       " -0.272727   -0.545455  -0.818182     -2.18182   -1.45455   -0.727273 \n",
       " -0.181818   -0.363636  -0.545455     -1.45455   -1.63636   -0.818182 \n",
       " -0.0909091  -0.181818  -0.272727     -0.727273  -0.818182  -0.909091 "
      ]
     },
     "execution_count": 25,
     "metadata": {},
     "output_type": "execute_result"
    }
   ],
   "source": [
    "m2=inv(matriz)"
   ]
  },
  {
   "cell_type": "code",
   "execution_count": 27,
   "metadata": {},
   "outputs": [
    {
     "data": {
      "text/plain": [
       "10-element Array{Float64,1}:\n",
       " 0.285599\n",
       " 1.05172 \n",
       " 2.05513 \n",
       " 2.97724 \n",
       " 3.52531 \n",
       " 3.52531 \n",
       " 2.97724 \n",
       " 2.05513 \n",
       " 1.05172 \n",
       " 0.285599"
      ]
     },
     "execution_count": 27,
     "metadata": {},
     "output_type": "execute_result"
    }
   ],
   "source": [
    "solucion=Float64.(-m2*A)"
   ]
  },
  {
   "cell_type": "code",
   "execution_count": 28,
   "metadata": {},
   "outputs": [
    {
     "data": {
      "image/png": "[encoded data removed]",
      "text/plain": [
       "PyPlot.Figure(PyObject <matplotlib.figure.Figure object at 0x7f3ac7118950>)"
      ]
     },
     "metadata": {},
     "output_type": "display_data"
    },
    {
     "data": {
      "text/plain": [
       "PyObject <matplotlib.collections.QuadMesh object at 0x7f3ac703d8d0>"
      ]
     },
     "execution_count": 28,
     "metadata": {},
     "output_type": "execute_result"
    }
   ],
   "source": [
    "Poisson=reshape(solucion,(1,10))\n",
    "pcolormesh(Poisson)"
   ]
  },
  {
   "cell_type": "code",
   "execution_count": null,
   "metadata": {},
   "outputs": [],
   "source": []
  }
 ],
 "metadata": {
  "kernelspec": {
   "display_name": "Julia 0.5.2",
   "language": "julia",
   "name": "julia-0.5"
  },
  "language_info": {
   "file_extension": ".jl",
   "mimetype": "application/julia",
   "name": "julia",
   "version": "0.5.2"
  }
 },
 "nbformat": 4,
 "nbformat_minor": 2
}
