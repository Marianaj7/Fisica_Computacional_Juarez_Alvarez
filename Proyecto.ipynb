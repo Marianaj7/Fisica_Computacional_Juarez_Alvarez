{
 "cells": [
  {
   "cell_type": "markdown",
   "metadata": {},
   "source": [
    "# Proyecto: Caminatas cuánticas aleatorias"
   ]
  },
  {
   "cell_type": "markdown",
   "metadata": {},
   "source": [
    "# Caso Clásico"
   ]
  },
  {
   "cell_type": "code",
   "execution_count": 13,
   "metadata": {},
   "outputs": [],
   "source": [
    "using PyPlot"
   ]
  },
  {
   "cell_type": "code",
   "execution_count": 60,
   "metadata": {},
   "outputs": [
    {
     "data": {
      "text/plain": [
       "41-element Array{Int64,1}:\n",
       " -20\n",
       " -19\n",
       " -18\n",
       " -17\n",
       " -16\n",
       " -15\n",
       " -14\n",
       " -13\n",
       " -12\n",
       " -11\n",
       " -10\n",
       "  -9\n",
       "  -8\n",
       "   ⋮\n",
       "   9\n",
       "  10\n",
       "  11\n",
       "  12\n",
       "  13\n",
       "  14\n",
       "  15\n",
       "  16\n",
       "  17\n",
       "  18\n",
       "  19\n",
       "  20"
      ]
     },
     "execution_count": 60,
     "metadata": {},
     "output_type": "execute_result"
    }
   ],
   "source": [
    "k=Array{Int64,1}(linspace(-20,20,41))"
   ]
  },
  {
   "cell_type": "code",
   "execution_count": 61,
   "metadata": {
    "scrolled": true
   },
   "outputs": [
    {
     "name": "stderr",
     "output_type": "stream",
     "text": [
      "WARNING: Method definition CClasico(Any, Any) in module Main at In[57]:2 overwritten at In[61]:2.\n"
     ]
    },
    {
     "data": {
      "text/plain": [
       "CClasico (generic function with 1 method)"
      ]
     },
     "execution_count": 61,
     "metadata": {},
     "output_type": "execute_result"
    }
   ],
   "source": [
    "function CClasico(n,k)\n",
    "    p=1/2\n",
    "    q=1/2\n",
    "    P=Float64[]\n",
    "    for i in 1:length(k)\n",
    "    pr=((factorial(n))*(p^(0.5(n+k[i])))*(q^(0.5(n-k[i]))))/((factorial(0.5(k[i]+n)))*(factorial(0.5(n-k[i]))))\n",
    "        push!(P,pr)\n",
    "    end\n",
    "    return P\n",
    "end"
   ]
  },
  {
   "cell_type": "code",
   "execution_count": 63,
   "metadata": {},
   "outputs": [
    {
     "data": {
      "text/plain": [
       "41-element Array{Float64,1}:\n",
       " 9.53674e-7 \n",
       " 4.84266e-6 \n",
       " 1.90735e-5 \n",
       " 6.29546e-5 \n",
       " 0.000181198\n",
       " 0.000465864\n",
       " 0.00108719 \n",
       " 0.00232932 \n",
       " 0.00462055 \n",
       " 0.00854084 \n",
       " 0.0147858  \n",
       " 0.0240696  \n",
       " 0.0369644  \n",
       " ⋮          \n",
       " 0.0240696  \n",
       " 0.0147858  \n",
       " 0.00854084 \n",
       " 0.00462055 \n",
       " 0.00232932 \n",
       " 0.00108719 \n",
       " 0.000465864\n",
       " 0.000181198\n",
       " 6.29546e-5 \n",
       " 1.90735e-5 \n",
       " 4.84266e-6 \n",
       " 9.53674e-7 "
      ]
     },
     "execution_count": 63,
     "metadata": {},
     "output_type": "execute_result"
    }
   ],
   "source": [
    "P=CClasico(20,k)"
   ]
  },
  {
   "cell_type": "code",
   "execution_count": 64,
   "metadata": {},
   "outputs": [
    {
     "data": {
      "image/png": "[encoded data removed]",
      "text/plain": [
       "PyPlot.Figure(PyObject <matplotlib.figure.Figure object at 0x7f99a745f7d0>)"
      ]
     },
     "metadata": {},
     "output_type": "display_data"
    },
    {
     "data": {
      "text/plain": [
       "1-element Array{Any,1}:\n",
       " PyObject <matplotlib.lines.Line2D object at 0x7f99a73a7b90>"
      ]
     },
     "execution_count": 64,
     "metadata": {},
     "output_type": "execute_result"
    }
   ],
   "source": [
    "plot(k,P)"
   ]
  },
  {
   "cell_type": "code",
   "execution_count": 103,
   "metadata": {},
   "outputs": [
    {
     "data": {
      "text/plain": [
       "41-element Array{Int64,1}:\n",
       " -20\n",
       " -19\n",
       " -18\n",
       " -17\n",
       " -16\n",
       " -15\n",
       " -14\n",
       " -13\n",
       " -12\n",
       " -11\n",
       " -10\n",
       "  -9\n",
       "  -8\n",
       "   ⋮\n",
       "   9\n",
       "  10\n",
       "  11\n",
       "  12\n",
       "  13\n",
       "  14\n",
       "  15\n",
       "  16\n",
       "  17\n",
       "  18\n",
       "  19\n",
       "  20"
      ]
     },
     "execution_count": 103,
     "metadata": {},
     "output_type": "execute_result"
    }
   ],
   "source": [
    "k=Array{Int64,1}(linspace(-20,20,41))"
   ]
  },
  {
   "cell_type": "code",
   "execution_count": null,
   "metadata": {},
   "outputs": [],
   "source": [
    "function CClasico(n,k)\n",
    "    p=1/2\n",
    "    q=1/2\n",
    "    P=Float64[]\n",
    "    for i in 1:length(k)\n",
    "    pr=((factorial(n))*(p^(0.5(n+k[i])))*(q^(0.5(n-k[i]))))/((factorial(0.5(k[i]+n)))*(factorial(0.5(n-k[i]))))\n",
    "        push!(P,pr)\n",
    "    end\n",
    "    return P\n",
    "end"
   ]
  },
  {
   "cell_type": "code",
   "execution_count": 67,
   "metadata": {},
   "outputs": [
    {
     "name": "stderr",
     "output_type": "stream",
     "text": [
      "\u001b[1m\u001b[34mINFO: Initializing package repository /home/juser/.julia/v0.5\n",
      "\u001b[0m\u001b[1m\u001b[34mINFO: Cloning METADATA from https://github.com/JuliaLang/METADATA.jl\n",
      "\u001b[0m\u001b[1m\u001b[34mINFO: Updating cache of Compat...\n",
      "\u001b[0m\u001b[1m\u001b[34mINFO: Cloning cache of DataStructures from https://github.com/JuliaCollections/DataStructures.jl.git\n",
      "\u001b[0m\u001b[1m\u001b[34mINFO: Cloning cache of FixedSizeArrays from https://github.com/SimonDanisch/FixedSizeArrays.jl.git\n",
      "\u001b[0m\u001b[1m\u001b[34mINFO: Updating cache of JSON...\n",
      "\u001b[0m\u001b[1m\u001b[34mINFO: Cloning cache of Measures from https://github.com/JuliaGraphics/Measures.jl.git\n",
      "\u001b[0m\u001b[1m\u001b[34mINFO: Cloning cache of NaNMath from https://github.com/mlubin/NaNMath.jl.git\n",
      "\u001b[0m\u001b[1m\u001b[34mINFO: Cloning cache of PlotThemes from https://github.com/JuliaPlots/PlotThemes.jl.git\n",
      "\u001b[0m\u001b[1m\u001b[34mINFO: Cloning cache of PlotUtils from https://github.com/JuliaPlots/PlotUtils.jl.git\n",
      "\u001b[0m\u001b[1m\u001b[34mINFO: Cloning cache of Plots from https://github.com/JuliaPlots/Plots.jl.git\n",
      "\u001b[0m\u001b[1m\u001b[34mINFO: Cloning cache of Showoff from https://github.com/JuliaGraphics/Showoff.jl.git\n",
      "\u001b[0m\u001b[1m\u001b[34mINFO: Cloning cache of SpecialFunctions from https://github.com/JuliaMath/SpecialFunctions.jl.git\n",
      "\u001b[0m\u001b[1m\u001b[34mINFO: Cloning cache of StatsBase from https://github.com/JuliaStats/StatsBase.jl.git\n",
      "\u001b[0m\u001b[1m\u001b[34mINFO: Installing ColorTypes v0.5.2\n",
      "\u001b[0m\u001b[1m\u001b[34mINFO: Installing Colors v0.7.4\n",
      "\u001b[0m\u001b[1m\u001b[34mINFO: Installing Compat v0.35.0\n",
      "\u001b[0m\u001b[1m\u001b[34mINFO: Installing DataStructures v0.6.1\n",
      "\u001b[0m\u001b[1m\u001b[34mINFO: Installing FixedPointNumbers v0.3.9\n",
      "\u001b[0m\u001b[1m\u001b[34mINFO: Installing FixedSizeArrays v0.2.5\n",
      "\u001b[0m\u001b[1m\u001b[34mINFO: Installing JSON v0.14.0\n",
      "\u001b[0m\u001b[1m\u001b[34mINFO: Installing Measures v0.1.0\n",
      "\u001b[0m\u001b[1m\u001b[34mINFO: Installing NaNMath v0.2.6\n",
      "\u001b[0m\u001b[1m\u001b[34mINFO: Installing PlotThemes v0.1.4\n",
      "\u001b[0m\u001b[1m\u001b[34mINFO: Installing PlotUtils v0.4.4\n",
      "\u001b[0m\u001b[1m\u001b[34mINFO: Installing Plots v0.11.4\n",
      "\u001b[0m\u001b[1m\u001b[34mINFO: Installing RecipesBase v0.1.0\n",
      "\u001b[0m\u001b[1m\u001b[34mINFO: Installing Reexport v0.0.3\n",
      "\u001b[0m\u001b[1m\u001b[34mINFO: Installing Showoff v0.1.1\n",
      "\u001b[0m\u001b[1m\u001b[34mINFO: Installing SpecialFunctions v0.2.0\n",
      "\u001b[0m\u001b[1m\u001b[34mINFO: Installing StatsBase v0.17.0\n",
      "\u001b[0m\u001b[1m\u001b[34mINFO: Building Plots\n",
      "\u001b[0m\u001b[1m\u001b[34mINFO: Cannot find deps/plotly-latest.min.js... downloading latest version.\n",
      "\u001b[0m  % Total    % Received % Xferd  Average Speed   Time    Time     Time  Current\n",
      "                                 Dload  Upload   Total   Spent    Left  Speed\n",
      "100 2287k  100 2287k    0     0  4599k      0 --:--:-- --:--:-- --:--:-- 4603k\n",
      "\u001b[1m\u001b[34mINFO: Package database updated\n",
      "\u001b[0m"
     ]
    }
   ],
   "source": [
    "Pkg.add(\"Plots\") "
   ]
  },
  {
   "cell_type": "code",
   "execution_count": 68,
   "metadata": {},
   "outputs": [
    {
     "name": "stderr",
     "output_type": "stream",
     "text": [
      "\u001b[1m\u001b[34mINFO: Precompiling module FixedSizeArrays.\n",
      "\u001b[0m\u001b[1m\u001b[34mINFO: Precompiling module RecipesBase.\n",
      "\u001b[0m\u001b[1m\u001b[34mINFO: Precompiling module PlotUtils.\n",
      "\u001b[0m\u001b[1m\u001b[34mINFO: Precompiling module PlotThemes.\n",
      "\u001b[0m\u001b[1m\u001b[34mINFO: Precompiling module Showoff.\n",
      "\u001b[0m\u001b[1m\u001b[34mINFO: Precompiling module StatsBase.\n",
      "\u001b[0m\u001b[1m\u001b[34mINFO: Precompiling module NaNMath.\n",
      "\u001b[0mWARNING: using Plots.plot in module Main conflicts with an existing identifier.\n"
     ]
    }
   ],
   "source": [
    "using Plots "
   ]
  },
  {
   "cell_type": "code",
   "execution_count": null,
   "metadata": {},
   "outputs": [],
   "source": []
  },
  {
   "cell_type": "code",
   "execution_count": 102,
   "metadata": {},
   "outputs": [
    {
     "data": {
      "text/html": [
       "<script src=\"/home/juser/.julia/v0.5/Plots/src/backends/../../deps/plotly-latest.min.js\"></script>    <div id=\"78e5a15f-831c-49c0-b3cf-6b05aee69228\" style=\"width:600px;height:400px;\"></div>\n",
       "    <script>\n",
       "    PLOT = document.getElementById('78e5a15f-831c-49c0-b3cf-6b05aee69228');\n",
       "    Plotly.plot(PLOT, [{\"yaxis\":\"y\",\"y\":[20.0,2.0,2.0,2.0,0.0,2.0,0.0,2.0,0.0,2.0,0.0,0.0,2.0,0.0,2.0,0.0,2.0,3.0],\"showlegend\":true,\"name\":\"y1\",\"type\":\"bar\",\"xaxis\":\"x\",\"orientation\":\"v\",\"colorbar\":{\"title\":\"\"},\"x\":[0.005,0.015,0.025,0.035,0.045,0.055,0.065,0.07500000000000001,0.08499999999999999,0.095,0.10500000000000001,0.11499999999999999,0.125,0.135,0.14500000000000002,0.155,0.165,0.175],\"marker\":{\"color\":\"rgba(0, 154, 250, 1.000)\"}}], {\"yaxis\":{\"type\":\"-\",\"titlefont\":{\"size\":15,\"color\":\"rgba(0, 0, 0, 1.000)\",\"family\":\"sans-serif\"},\"title\":\"\",\"tickfont\":{\"size\":11,\"color\":\"rgba(0, 0, 0, 1.000)\",\"family\":\"sans-serif\"},\"ticks\":\"inside\",\"tickmode\":\"array\",\"showgrid\":true,\"tickvals\":[0.0,5.0,10.0,15.0,20.0],\"domain\":[0.03762029746281716,0.9901574803149606],\"ticktext\":[\"0\",\"5\",\"10\",\"15\",\"20\"],\"tickangle\":0,\"zeroline\":false,\"linecolor\":\"rgba(0, 0, 0, 1.000)\",\"tickcolor\":\"rgba(0, 0, 0, 1.000)\",\"anchor\":\"x\"},\"annotations\":[],\"width\":600,\"plot_bgcolor\":\"rgba(255, 255, 255, 1.000)\",\"showlegend\":true,\"legend\":{\"bgcolor\":\"rgba(255, 255, 255, 1.000)\",\"y\":1.0,\"font\":{\"size\":11,\"color\":\"rgba(0, 0, 0, 1.000)\",\"family\":\"sans-serif\"},\"bordercolor\":\"rgba(0, 0, 0, 1.000)\",\"x\":1.0},\"xaxis\":{\"type\":\"-\",\"titlefont\":{\"size\":15,\"color\":\"rgba(0, 0, 0, 1.000)\",\"family\":\"sans-serif\"},\"title\":\"\",\"tickfont\":{\"size\":11,\"color\":\"rgba(0, 0, 0, 1.000)\",\"family\":\"sans-serif\"},\"ticks\":\"inside\",\"tickmode\":\"array\",\"showgrid\":true,\"tickvals\":[0.03,0.06,0.09,0.12,0.15,0.18],\"domain\":[0.03619130941965587,0.9934383202099738],\"ticktext\":[\"0.03\",\"0.06\",\"0.09\",\"0.12\",\"0.15\",\"0.18\"],\"tickangle\":0,\"zeroline\":false,\"linecolor\":\"rgba(0, 0, 0, 1.000)\",\"tickcolor\":\"rgba(0, 0, 0, 1.000)\",\"anchor\":\"y\"},\"paper_bgcolor\":\"rgba(255, 255, 255, 1.000)\",\"height\":400,\"margin\":{\"r\":0,\"l\":0,\"b\":20,\"t\":20}});\n",
       "    </script>\n"
      ]
     },
     "execution_count": 102,
     "metadata": {},
     "output_type": "execute_result"
    }
   ],
   "source": [
    "Plots.histogram(P)\n"
   ]
  },
  {
   "cell_type": "code",
   "execution_count": null,
   "metadata": {},
   "outputs": [],
   "source": []
  },
  {
   "cell_type": "code",
   "execution_count": null,
   "metadata": {},
   "outputs": [],
   "source": []
  },
  {
   "cell_type": "code",
   "execution_count": null,
   "metadata": {},
   "outputs": [],
   "source": []
  },
  {
   "cell_type": "code",
   "execution_count": null,
   "metadata": {},
   "outputs": [],
   "source": []
  },
  {
   "cell_type": "code",
   "execution_count": null,
   "metadata": {},
   "outputs": [],
   "source": []
  },
  {
   "cell_type": "code",
   "execution_count": null,
   "metadata": {},
   "outputs": [],
   "source": []
  },
  {
   "cell_type": "code",
   "execution_count": 96,
   "metadata": {},
   "outputs": [
    {
     "ename": "LoadError",
     "evalue": "type PyObject has no field hist",
     "output_type": "error",
     "traceback": [
      "type PyObject has no field hist",
      "",
      " in include_string(::String, ::String) at ./loading.jl:441"
     ]
    }
   ],
   "source": [
    "PyPlot.plt.hist(P)"
   ]
  },
  {
   "cell_type": "code",
   "execution_count": 95,
   "metadata": {},
   "outputs": [
    {
     "data": {
      "text/plain": [
       "100000-element Array{Float64,1}:\n",
       "  0.591024\n",
       "  0.652797\n",
       " -0.777342\n",
       " -1.22248 \n",
       " -0.674677\n",
       " -0.488155\n",
       "  1.56958 \n",
       " -1.84616 \n",
       "  0.128754\n",
       " -0.57057 \n",
       " -0.770977\n",
       "  1.55424 \n",
       " -1.25913 \n",
       "  ⋮       \n",
       " -1.3173  \n",
       " -0.997547\n",
       "  0.166173\n",
       "  1.32849 \n",
       " -0.559459\n",
       "  0.564734\n",
       " -0.835938\n",
       "  1.62343 \n",
       " -0.246564\n",
       " -0.240869\n",
       "  0.29286 \n",
       "  0.153654"
      ]
     },
     "execution_count": 95,
     "metadata": {},
     "output_type": "execute_result"
    }
   ],
   "source": [
    "random_numbers=randn(100000)"
   ]
  },
  {
   "cell_type": "code",
   "execution_count": 92,
   "metadata": {},
   "outputs": [
    {
     "data": {
      "text/html": [
       "<script src=\"/home/juser/.julia/v0.5/Plots/src/backends/../../deps/plotly-latest.min.js\"></script>    <div id=\"7d8b65a6-c2bf-42ad-9a07-e90f1636de9d\" style=\"width:600px;height:400px;\"></div>\n",
       "    <script>\n",
       "    PLOT = document.getElementById('7d8b65a6-c2bf-42ad-9a07-e90f1636de9d');\n",
       "    Plotly.plot(PLOT, [{\"yaxis\":\"y\",\"y\":[2.0,21.0,110.0,502.0,1679.0,4413.0,9344.0,14881.0,19208.0,19243.0,14818.0,9157.0,4379.0,1602.0,495.0,128.0,16.0,2.0],\"showlegend\":true,\"name\":\"y1\",\"type\":\"bar\",\"xaxis\":\"x\",\"orientation\":\"v\",\"colorbar\":{\"title\":\"\"},\"x\":[-4.25,-3.75,-3.25,-2.75,-2.25,-1.75,-1.25,-0.75,-0.25,0.25,0.75,1.25,1.75,2.25,2.75,3.25,3.75,4.25],\"marker\":{\"color\":\"rgba(0, 154, 250, 1.000)\"}}], {\"yaxis\":{\"type\":\"-\",\"titlefont\":{\"size\":15,\"color\":\"rgba(0, 0, 0, 1.000)\",\"family\":\"sans-serif\"},\"title\":\"\",\"tickfont\":{\"size\":11,\"color\":\"rgba(0, 0, 0, 1.000)\",\"family\":\"sans-serif\"},\"ticks\":\"inside\",\"tickmode\":\"array\",\"showgrid\":true,\"tickvals\":[0.0,2500.0,5000.0,7500.0,10000.0,12500.0,15000.0,17500.0],\"domain\":[0.03762029746281716,0.9901574803149606],\"ticktext\":[\"0\",\"2500\",\"5000\",\"7500\",\"10000\",\"12500\",\"15000\",\"17500\"],\"tickangle\":0,\"zeroline\":false,\"linecolor\":\"rgba(0, 0, 0, 1.000)\",\"tickcolor\":\"rgba(0, 0, 0, 1.000)\",\"anchor\":\"x\"},\"annotations\":[],\"width\":600,\"plot_bgcolor\":\"rgba(255, 255, 255, 1.000)\",\"showlegend\":true,\"legend\":{\"bgcolor\":\"rgba(255, 255, 255, 1.000)\",\"y\":1.0,\"font\":{\"size\":11,\"color\":\"rgba(0, 0, 0, 1.000)\",\"family\":\"sans-serif\"},\"bordercolor\":\"rgba(0, 0, 0, 1.000)\",\"x\":1.0},\"xaxis\":{\"type\":\"-\",\"titlefont\":{\"size\":15,\"color\":\"rgba(0, 0, 0, 1.000)\",\"family\":\"sans-serif\"},\"title\":\"\",\"tickfont\":{\"size\":11,\"color\":\"rgba(0, 0, 0, 1.000)\",\"family\":\"sans-serif\"},\"ticks\":\"inside\",\"tickmode\":\"array\",\"showgrid\":true,\"tickvals\":[-4.0,-2.0,0.0,2.0,4.0],\"domain\":[0.08063575386410031,0.9934383202099737],\"ticktext\":[\"-4\",\"-2\",\"0\",\"2\",\"4\"],\"tickangle\":0,\"zeroline\":false,\"linecolor\":\"rgba(0, 0, 0, 1.000)\",\"tickcolor\":\"rgba(0, 0, 0, 1.000)\",\"anchor\":\"y\"},\"paper_bgcolor\":\"rgba(255, 255, 255, 1.000)\",\"height\":400,\"margin\":{\"r\":0,\"l\":0,\"b\":20,\"t\":20}});\n",
       "    </script>\n"
      ]
     },
     "execution_count": 92,
     "metadata": {},
     "output_type": "execute_result"
    }
   ],
   "source": [
    "random_numbers=randn(100000);\n",
    "Plots.histogram(random_numbers) "
   ]
  },
  {
   "cell_type": "code",
   "execution_count": null,
   "metadata": {},
   "outputs": [],
   "source": []
  },
  {
   "cell_type": "code",
   "execution_count": null,
   "metadata": {},
   "outputs": [],
   "source": []
  },
  {
   "cell_type": "code",
   "execution_count": null,
   "metadata": {},
   "outputs": [],
   "source": []
  },
  {
   "cell_type": "code",
   "execution_count": null,
   "metadata": {},
   "outputs": [],
   "source": []
  },
  {
   "cell_type": "code",
   "execution_count": null,
   "metadata": {},
   "outputs": [],
   "source": []
  }
 ],
 "metadata": {
  "kernelspec": {
   "display_name": "Julia 0.5.2",
   "language": "julia",
   "name": "julia-0.5"
  },
  "language_info": {
   "file_extension": ".jl",
   "mimetype": "application/julia",
   "name": "julia",
   "version": "0.5.2"
  }
 },
 "nbformat": 4,
 "nbformat_minor": 2
}
