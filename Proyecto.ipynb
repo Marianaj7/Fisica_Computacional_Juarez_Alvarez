{
 "cells": [
  {
   "cell_type": "markdown",
   "metadata": {},
   "source": [
    "# Proyecto: Caminatas cuánticas aleatorias"
   ]
  },
  {
   "cell_type": "markdown",
   "metadata": {},
   "source": [
    "# Caso Clásico"
   ]
  },
  {
   "cell_type": "code",
   "execution_count": 1,
   "metadata": {},
   "outputs": [],
   "source": [
    "using PyPlot"
   ]
  },
  {
   "cell_type": "code",
   "execution_count": 2,
   "metadata": {},
   "outputs": [
    {
     "data": {
      "text/plain": [
       "41-element Array{Int64,1}:\n",
       " -20\n",
       " -19\n",
       " -18\n",
       " -17\n",
       " -16\n",
       " -15\n",
       " -14\n",
       " -13\n",
       " -12\n",
       " -11\n",
       " -10\n",
       "  -9\n",
       "  -8\n",
       "   ⋮\n",
       "   9\n",
       "  10\n",
       "  11\n",
       "  12\n",
       "  13\n",
       "  14\n",
       "  15\n",
       "  16\n",
       "  17\n",
       "  18\n",
       "  19\n",
       "  20"
      ]
     },
     "execution_count": 2,
     "metadata": {},
     "output_type": "execute_result"
    }
   ],
   "source": [
    "k=Array{Int64,1}(linspace(-20,20,41))"
   ]
  },
  {
   "cell_type": "code",
   "execution_count": 3,
   "metadata": {},
   "outputs": [
    {
     "data": {
      "text/plain": [
       "1×41 Array{Int64,2}:\n",
       " -20  -19  -18  -17  -16  -15  -14  …  12  13  14  15  16  17  18  19  20"
      ]
     },
     "execution_count": 3,
     "metadata": {},
     "output_type": "execute_result"
    }
   ],
   "source": [
    "g=k'"
   ]
  },
  {
   "cell_type": "code",
   "execution_count": 4,
   "metadata": {
    "scrolled": true
   },
   "outputs": [
    {
     "data": {
      "text/plain": [
       "CClasico (generic function with 1 method)"
      ]
     },
     "execution_count": 4,
     "metadata": {},
     "output_type": "execute_result"
    }
   ],
   "source": [
    "function CClasico(n,k)\n",
    "    p=1/2\n",
    "    q=1/2\n",
    "    P=Float64[]\n",
    "    for i in 1:length(k)\n",
    "    pr=((factorial(n))*(p^(0.5(n+k[i])))*(q^(0.5(n-k[i]))))/((factorial(0.5(k[i]+n)))*(factorial(0.5(n-k[i]))))\n",
    "        push!(P,pr)\n",
    "    end\n",
    "    return P\n",
    "end"
   ]
  },
  {
   "cell_type": "code",
   "execution_count": 5,
   "metadata": {},
   "outputs": [
    {
     "data": {
      "text/plain": [
       "41-element Array{Float64,1}:\n",
       " 9.53674e-7 \n",
       " 4.84266e-6 \n",
       " 1.90735e-5 \n",
       " 6.29546e-5 \n",
       " 0.000181198\n",
       " 0.000465864\n",
       " 0.00108719 \n",
       " 0.00232932 \n",
       " 0.00462055 \n",
       " 0.00854084 \n",
       " 0.0147858  \n",
       " 0.0240696  \n",
       " 0.0369644  \n",
       " ⋮          \n",
       " 0.0240696  \n",
       " 0.0147858  \n",
       " 0.00854084 \n",
       " 0.00462055 \n",
       " 0.00232932 \n",
       " 0.00108719 \n",
       " 0.000465864\n",
       " 0.000181198\n",
       " 6.29546e-5 \n",
       " 1.90735e-5 \n",
       " 4.84266e-6 \n",
       " 9.53674e-7 "
      ]
     },
     "execution_count": 5,
     "metadata": {},
     "output_type": "execute_result"
    }
   ],
   "source": [
    "P=CClasico(20,k)"
   ]
  },
  {
   "cell_type": "code",
   "execution_count": 6,
   "metadata": {},
   "outputs": [
    {
     "data": {
      "image/png": "[encoded data removed]",
      "text/plain": [
       "PyPlot.Figure(PyObject <matplotlib.figure.Figure object at 0x7f909bdab390>)"
      ]
     },
     "metadata": {},
     "output_type": "display_data"
    },
    {
     "data": {
      "text/plain": [
       "1-element Array{Any,1}:\n",
       " PyObject <matplotlib.lines.Line2D object at 0x7f9096d9e190>"
      ]
     },
     "execution_count": 6,
     "metadata": {},
     "output_type": "execute_result"
    }
   ],
   "source": [
    "plot(k,P)"
   ]
  },
  {
   "cell_type": "markdown",
   "metadata": {},
   "source": [
    "# Lanzamiento de una moneda"
   ]
  },
  {
   "cell_type": "code",
   "execution_count": 7,
   "metadata": {},
   "outputs": [
    {
     "data": {
      "text/plain": [
       "volado (generic function with 1 method)"
      ]
     },
     "execution_count": 7,
     "metadata": {},
     "output_type": "execute_result"
    }
   ],
   "source": [
    "function volado(n)\n",
    "    rand(-1:2:1,n)\n",
    "end"
   ]
  },
  {
   "cell_type": "code",
   "execution_count": 8,
   "metadata": {},
   "outputs": [
    {
     "data": {
      "text/plain": [
       "10-element Array{Int64,1}:\n",
       " -1\n",
       "  1\n",
       " -1\n",
       " -1\n",
       "  1\n",
       " -1\n",
       "  1\n",
       "  1\n",
       " -1\n",
       " -1"
      ]
     },
     "execution_count": 8,
     "metadata": {},
     "output_type": "execute_result"
    }
   ],
   "source": [
    "b=volado(10)"
   ]
  },
  {
   "cell_type": "code",
   "execution_count": 9,
   "metadata": {},
   "outputs": [
    {
     "data": {
      "text/plain": [
       "posicion_final (generic function with 1 method)"
      ]
     },
     "execution_count": 9,
     "metadata": {},
     "output_type": "execute_result"
    }
   ],
   "source": [
    "function posicion_final(b)\n",
    "    p=0\n",
    "    for i in 1:length(b)\n",
    "    p=b[i]+p\n",
    "end\n",
    "return p\n",
    "end"
   ]
  },
  {
   "cell_type": "code",
   "execution_count": 10,
   "metadata": {},
   "outputs": [
    {
     "data": {
      "text/plain": [
       "-2"
      ]
     },
     "execution_count": 10,
     "metadata": {},
     "output_type": "execute_result"
    }
   ],
   "source": [
    "posicion_final(b)"
   ]
  },
  {
   "cell_type": "code",
   "execution_count": 11,
   "metadata": {},
   "outputs": [
    {
     "data": {
      "text/plain": [
       "posicion_f (generic function with 1 method)"
      ]
     },
     "execution_count": 11,
     "metadata": {},
     "output_type": "execute_result"
    }
   ],
   "source": [
    "function posicion_f(n)\n",
    "    b=rand(-1:2:1,n)\n",
    "    p=0\n",
    "    for i in 1:length(b)\n",
    "    p=b[i]+p\n",
    "end\n",
    "return p\n",
    "end"
   ]
  },
  {
   "cell_type": "code",
   "execution_count": 12,
   "metadata": {},
   "outputs": [
    {
     "data": {
      "text/plain": [
       "2"
      ]
     },
     "execution_count": 12,
     "metadata": {},
     "output_type": "execute_result"
    }
   ],
   "source": [
    "posicion_f(10)"
   ]
  },
  {
   "cell_type": "code",
   "execution_count": 13,
   "metadata": {},
   "outputs": [
    {
     "data": {
      "text/plain": [
       "fin (generic function with 1 method)"
      ]
     },
     "execution_count": 13,
     "metadata": {},
     "output_type": "execute_result"
    }
   ],
   "source": [
    "function fin(n,k) \n",
    "    listf=zeros(k) \n",
    "    for i in 1:k  posicion_final\n",
    "        d=posicion_f(n)\n",
    "        listf[i]=d  \n",
    "        end \n",
    "    return listf\n",
    "    end"
   ]
  },
  {
   "cell_type": "code",
   "execution_count": 14,
   "metadata": {},
   "outputs": [
    {
     "data": {
      "text/plain": [
       "1000-element Array{Float64,1}:\n",
       "  0.0\n",
       " -2.0\n",
       "  4.0\n",
       "  0.0\n",
       " -2.0\n",
       "  4.0\n",
       " -4.0\n",
       " -2.0\n",
       "  2.0\n",
       "  2.0\n",
       "  0.0\n",
       " -2.0\n",
       " -4.0\n",
       "  ⋮  \n",
       "  0.0\n",
       " -2.0\n",
       " -2.0\n",
       " -4.0\n",
       "  0.0\n",
       " -2.0\n",
       " -4.0\n",
       " -6.0\n",
       "  2.0\n",
       "  0.0\n",
       " -6.0\n",
       " -2.0"
      ]
     },
     "execution_count": 14,
     "metadata": {},
     "output_type": "execute_result"
    }
   ],
   "source": [
    "C=fin(10,1000)"
   ]
  },
  {
   "cell_type": "code",
   "execution_count": 15,
   "metadata": {},
   "outputs": [
    {
     "name": "stderr",
     "output_type": "stream",
     "text": [
      "\u001b[1m\u001b[34mINFO: Nothing to be done\n",
      "\u001b[0m\u001b[1m\u001b[34mINFO: METADATA is out-of-date — you may not have the latest version of Plots\n",
      "\u001b[0m\u001b[1m\u001b[34mINFO: Use `Pkg.update()` to get the latest versions of your packages\n",
      "\u001b[0m"
     ]
    }
   ],
   "source": [
    "Pkg.add(\"Plots\")"
   ]
  },
  {
   "cell_type": "code",
   "execution_count": 16,
   "metadata": {},
   "outputs": [
    {
     "name": "stderr",
     "output_type": "stream",
     "text": [
      "WARNING: using Plots.plot in module Main conflicts with an existing identifier.\n"
     ]
    }
   ],
   "source": [
    "using Plots"
   ]
  },
  {
   "cell_type": "code",
   "execution_count": 16,
   "metadata": {},
   "outputs": [
    {
     "ename": "LoadError",
     "evalue": "UndefVarError: Plots not defined",
     "output_type": "error",
     "traceback": [
      "UndefVarError: Plots not defined",
      "",
      " in include_string(::String, ::String) at ./loading.jl:441"
     ]
    }
   ],
   "source": [
    "Plots.histogram(C) # Usando histogram"
   ]
  },
  {
   "cell_type": "markdown",
   "metadata": {},
   "source": [
    "# Caso cuántico"
   ]
  },
  {
   "cell_type": "code",
   "execution_count": 18,
   "metadata": {},
   "outputs": [
    {
     "data": {
      "text/plain": [
       "posicion_x (generic function with 1 method)"
      ]
     },
     "execution_count": 18,
     "metadata": {},
     "output_type": "execute_result"
    }
   ],
   "source": [
    "function posicion_x(x,k) #esta rutina \"puede\" funcionar para escribir al estado inicial y la lista \"g\" que nos va a construir al                            operador S\n",
    "    X=Int64[] \n",
    "   for i in 1:k\n",
    "    if x==i\n",
    "        y=1\n",
    "    elseif x!=i\n",
    "        y=0\n",
    "        \n",
    "    end\n",
    "        push!(X,y)\n",
    "    end\n",
    "    return X\n",
    "end\n",
    "        "
   ]
  },
  {
   "cell_type": "code",
   "execution_count": 19,
   "metadata": {},
   "outputs": [],
   "source": [
    "h=posicion_x(3,100);#obtenemos un vector canónico de dimensión diez con el uno en la primera entrada."
   ]
  },
  {
   "cell_type": "code",
   "execution_count": 20,
   "metadata": {},
   "outputs": [
    {
     "data": {
      "text/plain": [
       "lista_x (generic function with 1 method)"
      ]
     },
     "execution_count": 20,
     "metadata": {},
     "output_type": "execute_result"
    }
   ],
   "source": [
    "function lista_x(n,k) \n",
    "    listx=Array{Int64,1}[]\n",
    "for i in 1:n\n",
    "        d=posicion_x(i,k)\n",
    "        \n",
    "        push!(listx,d) \n",
    "        end \n",
    "    return listx\n",
    "    end\n"
   ]
  },
  {
   "cell_type": "code",
   "execution_count": 21,
   "metadata": {},
   "outputs": [
    {
     "data": {
      "text/plain": [
       "2-element Array{Int64,1}:\n",
       " 0\n",
       " 1"
      ]
     },
     "execution_count": 21,
     "metadata": {},
     "output_type": "execute_result"
    }
   ],
   "source": [
    "sar=[1,0]\n",
    "sab=[0,1]"
   ]
  },
  {
   "cell_type": "code",
   "execution_count": 22,
   "metadata": {},
   "outputs": [
    {
     "data": {
      "text/plain": [
       "5-element Array{Array{Int64,1},1}:\n",
       " [1,0,0,0,0]\n",
       " [0,1,0,0,0]\n",
       " [0,0,1,0,0]\n",
       " [0,0,0,1,0]\n",
       " [0,0,0,0,1]"
      ]
     },
     "execution_count": 22,
     "metadata": {},
     "output_type": "execute_result"
    }
   ],
   "source": [
    "g=lista_x(5,5)"
   ]
  },
  {
   "cell_type": "code",
   "execution_count": 23,
   "metadata": {},
   "outputs": [
    {
     "data": {
      "text/plain": [
       "10×10 Array{Int64,2}:\n",
       " 0  0  0  0  0  0  0  0  0  0\n",
       " 0  0  0  1  0  0  0  0  0  0\n",
       " 0  0  0  0  0  0  0  0  0  0\n",
       " 0  0  0  0  0  0  0  0  0  0\n",
       " 0  0  1  0  0  0  0  0  0  0\n",
       " 0  0  0  0  0  0  0  0  0  0\n",
       " 0  0  0  0  0  0  0  0  0  0\n",
       " 0  0  0  0  0  0  0  0  0  0\n",
       " 0  0  0  0  0  0  0  0  0  0\n",
       " 0  0  0  0  0  0  0  0  0  0"
      ]
     },
     "execution_count": 23,
     "metadata": {},
     "output_type": "execute_result"
    }
   ],
   "source": [
    "g=lista_x(5,5) \n",
    "    sar=[1,0]\n",
    "    sab=[0,1]\n",
    "    S=0\n",
    "    for i in 2:length(g)\n",
    "        S=kron(g[i+1]*g[i]',sar*sar')+kron(g[i-1]*g[i]',sab*sab')+S\n",
    "    \n",
    "return S\n",
    "end\n",
    "    "
   ]
  },
  {
   "cell_type": "code",
   "execution_count": 24,
   "metadata": {},
   "outputs": [
    {
     "data": {
      "text/plain": [
       "10×10 Array{Int64,2}:\n",
       " 0  0  0  0  0  0  0  0  0  0\n",
       " 0  0  0  1  0  0  0  0  0  0\n",
       " 0  0  0  0  0  0  0  0  0  0\n",
       " 0  0  0  0  0  1  0  0  0  0\n",
       " 0  0  1  0  0  0  0  0  0  0\n",
       " 0  0  0  0  0  0  0  0  0  0\n",
       " 0  0  0  0  1  0  0  0  0  0\n",
       " 0  0  0  0  0  0  0  0  0  0\n",
       " 0  0  0  0  0  0  0  0  0  0\n",
       " 0  0  0  0  0  0  0  0  0  0"
      ]
     },
     "execution_count": 24,
     "metadata": {},
     "output_type": "execute_result"
    }
   ],
   "source": [
    "S=kron(g[4]*g[3]',sar*sar')+kron(g[2]*g[3]',sab*sab')+kron(g[3]*g[2]',sar*sar')+kron(g[1]*g[2]',sab*sab')"
   ]
  },
  {
   "cell_type": "code",
   "execution_count": 25,
   "metadata": {},
   "outputs": [],
   "source": [
    "I=eye(100,100);"
   ]
  },
  {
   "cell_type": "code",
   "execution_count": 26,
   "metadata": {},
   "outputs": [],
   "source": [
    "H=(1/sqrt(2))*[1 1; 1 -1]; #Matriz de Haaaasjsd"
   ]
  },
  {
   "cell_type": "code",
   "execution_count": 27,
   "metadata": {},
   "outputs": [],
   "source": [
    "M=kron(I,H);"
   ]
  },
  {
   "cell_type": "code",
   "execution_count": 28,
   "metadata": {},
   "outputs": [
    {
     "data": {
      "text/plain": [
       "10×10 Array{Float64,2}:\n",
       " 0.0  0.0  0.0        0.0       0.0        0.0       0.0  0.0  0.0  0.0\n",
       " 0.0  0.0  0.707107  -0.707107  0.0        0.0       0.0  0.0  0.0  0.0\n",
       " 0.0  0.0  0.0        0.0       0.0        0.0       0.0  0.0  0.0  0.0\n",
       " 0.0  0.0  0.0        0.0       0.707107  -0.707107  0.0  0.0  0.0  0.0\n",
       " 0.0  0.0  0.707107   0.707107  0.0        0.0       0.0  0.0  0.0  0.0\n",
       " 0.0  0.0  0.0        0.0       0.0        0.0       0.0  0.0  0.0  0.0\n",
       " 0.0  0.0  0.0        0.0       0.707107   0.707107  0.0  0.0  0.0  0.0\n",
       " 0.0  0.0  0.0        0.0       0.0        0.0       0.0  0.0  0.0  0.0\n",
       " 0.0  0.0  0.0        0.0       0.0        0.0       0.0  0.0  0.0  0.0\n",
       " 0.0  0.0  0.0        0.0       0.0        0.0       0.0  0.0  0.0  0.0"
      ]
     },
     "execution_count": 28,
     "metadata": {},
     "output_type": "execute_result"
    }
   ],
   "source": [
    "#definición del operador U\n",
    "I=eye(5,5)\n",
    "H=(1/sqrt(2))*[1 1; 1 -1]\n",
    "\n",
    "    U=S*kron(I,H)\n",
    "\n",
    "   "
   ]
  },
  {
   "cell_type": "code",
   "execution_count": 29,
   "metadata": {},
   "outputs": [
    {
     "ename": "LoadError",
     "evalue": "DimensionMismatch(\"matrix A has dimensions (10,10), matrix B has dimensions (5,2)\")",
     "output_type": "error",
     "traceback": [
      "DimensionMismatch(\"matrix A has dimensions (10,10), matrix B has dimensions (5,2)\")",
      "",
      " in _generic_matmatmul!(::Array{Float64,2}, ::Char, ::Char, ::Array{Float64,2}, ::Array{Int64,2}) at ./linalg/matmul.jl:456",
      " in generic_matmatmul!(::Array{Float64,2}, ::Char, ::Char, ::Array{Float64,2}, ::Array{Int64,2}) at ./linalg/matmul.jl:447",
      " in *(::Array{Float64,2}, ::Array{Int64,2}) at ./linalg/matmul.jl:129",
      " in include_string(::String, ::String) at ./loading.jl:441"
     ]
    }
   ],
   "source": [
    "U*kron(g[3],sar')"
   ]
  },
  {
   "cell_type": "code",
   "execution_count": 30,
   "metadata": {},
   "outputs": [
    {
     "ename": "LoadError",
     "evalue": "DimensionMismatch(\"matrix A has dimensions (10,2), matrix B has dimensions (10,2)\")",
     "output_type": "error",
     "traceback": [
      "DimensionMismatch(\"matrix A has dimensions (10,2), matrix B has dimensions (10,2)\")",
      "",
      " in _generic_matmatmul!(::Array{Float64,2}, ::Char, ::Char, ::Array{Int64,2}, ::Array{Float64,2}) at ./linalg/matmul.jl:456",
      " in generic_matmatmul!(::Array{Float64,2}, ::Char, ::Char, ::Array{Int64,2}, ::Array{Float64,2}) at ./linalg/matmul.jl:447",
      " in *(::Array{Int64,2}, ::Array{Float64,2}) at ./linalg/matmul.jl:129",
      " in macro expansion; at ./In[30]:4 [inlined]",
      " in anonymous at ./<missing>:?",
      " in include_string(::String, ::String) at ./loading.jl:441"
     ]
    }
   ],
   "source": [
    "\n",
    "    g=lista_x(10,10)\n",
    "for i in 2:length(g)\n",
    "    P=kron(g[i],sar')*(U*kron(g[i],sar'))+kron(g[i],sab')*(U*kron(g[i],sab'))\n",
    "end\n",
    "return P\n",
    "end\n",
    "    \n",
    "    "
   ]
  },
  {
   "cell_type": "code",
   "execution_count": null,
   "metadata": {},
   "outputs": [],
   "source": []
  }
 ],
 "metadata": {
  "kernelspec": {
   "display_name": "Julia 0.5.2",
   "language": "julia",
   "name": "julia-0.5"
  },
  "language_info": {
   "file_extension": ".jl",
   "mimetype": "application/julia",
   "name": "julia",
   "version": "0.5.2"
  }
 },
 "nbformat": 4,
 "nbformat_minor": 2
}
